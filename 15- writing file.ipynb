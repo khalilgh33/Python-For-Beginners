{
 "cells": [
  {
   "cell_type": "markdown",
   "metadata": {},
   "source": [
    "#### Writing Files in Python\n",
    "Python provides built-in functions for file handling. The primary function for writing files is open(), which is used with different modes:\n",
    "\n",
    "1. Writing a Text File (.txt)\\\n",
    "To create and write text into a file, use the \"w\" mode."
   ]
  },
  {
   "cell_type": "code",
   "execution_count": 5,
   "metadata": {},
   "outputs": [
    {
     "name": "stdout",
     "output_type": "stream",
     "text": [
      "file written siccessfully\n"
     ]
    }
   ],
   "source": [
    "# open a file in write mode (\"W\") - this will overwrite any exiting content\n",
    "with open(\"khalil.txt\", \"w\", encoding=\"utf-8\") as file:\n",
    "    file.write(\"Khalil gholamnia \\n\") # \\n goest to below line\n",
    "    file.write(\"khalil is writing a sample code for writing\")\n",
    "\n",
    "print(\"file written siccessfully\")    \n",
    "\n",
    "#📌 Note: The \"w\" mode overwrites the file if it already exists.\n",
    "\n"
   ]
  },
  {
   "cell_type": "markdown",
   "metadata": {},
   "source": [
    "##### 2. Appending Data to a File\n",
    "If you want to add more data to an existing file without overwriting it, use the \"a\" mode."
   ]
  },
  {
   "cell_type": "code",
   "execution_count": 7,
   "metadata": {},
   "outputs": [
    {
     "name": "stdout",
     "output_type": "stream",
     "text": [
      "file written siccessfully\n"
     ]
    }
   ],
   "source": [
    "# open a file in append mode (\"a\") - this content whitout deleting exiting data\n",
    "with open(\"khalil.txt\", \"a\", encoding=\"utf-8\") as file:\n",
    "    file.write(\"Khalil gholamnia is from Iran \\n\") # \\n goest to below line\n",
    "\n",
    "print(\"file written siccessfully\")    \n",
    "\n",
    "#📌 Note: The \"a\" mode ensures that the existing content is not lost.\n",
    "\n",
    "\n",
    "\n",
    " "
   ]
  },
  {
   "cell_type": "markdown",
   "metadata": {},
   "source": [
    "#### 3. Writing Multiple Lines Using writelines()\n",
    "You can write multiple lines at once using a list of strings."
   ]
  },
  {
   "cell_type": "code",
   "execution_count": 8,
   "metadata": {},
   "outputs": [
    {
     "name": "stdout",
     "output_type": "stream",
     "text": [
      "Multiple lines written successfully.\n"
     ]
    }
   ],
   "source": [
    "lines = [\"First line\\n\", \"Second line\\n\", \"Third line\\n\"]\n",
    "\n",
    "with open(\"khalil.txt\", \"w\", encoding=\"utf-8\") as file:\n",
    "    file.writelines(lines)\n",
    "\n",
    "print(\"Multiple lines written successfully.\")\n"
   ]
  },
  {
   "cell_type": "markdown",
   "metadata": {},
   "source": [
    "#### 4. Writing CSV Files\n",
    "Python’s csv module allows you to write structured tabular data."
   ]
  },
  {
   "cell_type": "code",
   "execution_count": 9,
   "metadata": {},
   "outputs": [
    {
     "name": "stdout",
     "output_type": "stream",
     "text": [
      "CSV file created successfully.\n"
     ]
    }
   ],
   "source": [
    "import csv\n",
    "\n",
    "data = [\n",
    "    [\"Name\", \"Age\", \"City\"],\n",
    "    [\"Alice\", 25, \"New York\"],\n",
    "    [\"Bob\", 30, \"Los Angeles\"],\n",
    "    [\"Charlie\", 28, \"Chicago\"]\n",
    "]\n",
    "\n",
    "# Writing to a CSV file\n",
    "with open(\"people.csv\", \"w\", newline=\"\", encoding=\"utf-8\") as file:\n",
    "    writer = csv.writer(file)\n",
    "    writer.writerows(data)\n",
    "\n",
    "print(\"CSV file created successfully.\")\n"
   ]
  },
  {
   "cell_type": "markdown",
   "metadata": {},
   "source": [
    "#### 5. Writing JSON Files\n",
    "Python’s json module allows saving structured data."
   ]
  },
  {
   "cell_type": "code",
   "execution_count": 10,
   "metadata": {},
   "outputs": [
    {
     "name": "stdout",
     "output_type": "stream",
     "text": [
      "JSON file created successfully.\n"
     ]
    }
   ],
   "source": [
    "import json\n",
    "\n",
    "data = {\n",
    "    \"name\": \"Alice\",\n",
    "    \"age\": 25,\n",
    "    \"city\": \"New York\",\n",
    "    \"skills\": [\"Python\", \"Machine Learning\", \"GIS\"]\n",
    "}\n",
    "\n",
    "# Writing to a JSON file\n",
    "with open(\"data.json\", \"w\", encoding=\"utf-8\") as file:\n",
    "    json.dump(data, file, indent=4)\n",
    "\n",
    "print(\"JSON file created successfully.\")\n"
   ]
  },
  {
   "cell_type": "markdown",
   "metadata": {},
   "source": [
    "#### Reading the Written File\n",
    "After writing a file, you can read it using the \"r\" mode."
   ]
  },
  {
   "cell_type": "code",
   "execution_count": 13,
   "metadata": {},
   "outputs": [
    {
     "name": "stdout",
     "output_type": "stream",
     "text": [
      "File Content:\n",
      " First line\n",
      "Second line\n",
      "Third line\n",
      "\n"
     ]
    }
   ],
   "source": [
    "with open(\"khalil.txt\", \"r\", encoding=\"utf-8\") as file:\n",
    "    content = file.read()\n",
    "\n",
    "print(\"File Content:\\n\", content)\n"
   ]
  },
  {
   "cell_type": "code",
   "execution_count": null,
   "metadata": {},
   "outputs": [],
   "source": []
  }
 ],
 "metadata": {
  "kernelspec": {
   "display_name": "base",
   "language": "python",
   "name": "python3"
  },
  "language_info": {
   "codemirror_mode": {
    "name": "ipython",
    "version": 3
   },
   "file_extension": ".py",
   "mimetype": "text/x-python",
   "name": "python",
   "nbconvert_exporter": "python",
   "pygments_lexer": "ipython3",
   "version": "3.11.7"
  }
 },
 "nbformat": 4,
 "nbformat_minor": 2
}
