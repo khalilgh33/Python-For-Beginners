{
 "cells": [
  {
   "cell_type": "markdown",
   "metadata": {},
   "source": [
    "#### Tutorial: Reading Files in Python\n",
    "Python provides built-in functions to read files easily. This tutorial covers different methods to read text and CSV files in Python."
   ]
  },
  {
   "cell_type": "markdown",
   "metadata": {},
   "source": [
    "1. Opening a File\\\n",
    "To read a file in Python, you need to use the open() function."
   ]
  },
  {
   "cell_type": "code",
   "execution_count": 10,
   "metadata": {},
   "outputs": [
    {
     "name": "stdout",
     "output_type": "stream",
     "text": [
      "Khalil - golzar\n",
      "Khalil = man\n"
     ]
    }
   ],
   "source": [
    "\n",
    "file  = open(\"khalil.txt\", \"r\") # opens the file in read mode\n",
    "content = file.read() # Read the entire content\n",
    "print(content)\n",
    "file.close() # Always close the file after reading"
   ]
  },
  {
   "cell_type": "markdown",
   "metadata": {},
   "source": [
    "#### Modes in open()\n",
    "1. \"r\" – Read (default mode)\n",
    "2. \"w\" – Write (creates a new file if it doesn’t exist)\n",
    "3. \"a\" – Append (adds content to an existing file)\n",
    "4. \"rb\" – Read binary files (e.g., images, PDFs)\n",
    "5. \"r+\" – Read and write"
   ]
  },
  {
   "cell_type": "markdown",
   "metadata": {},
   "source": [
    "#### 2. Reading a File Line by Line\n",
    "To read large files efficiently, use readline() or readlines().\\\n",
    "\n",
    "Using readline()"
   ]
  },
  {
   "cell_type": "code",
   "execution_count": 12,
   "metadata": {},
   "outputs": [
    {
     "name": "stdout",
     "output_type": "stream",
     "text": [
      "Khalil - golzar\n",
      "\n"
     ]
    }
   ],
   "source": [
    "file = open(\"khalil.txt\", \"r\")\n",
    "line = file.readline() # reads the first line\n",
    "print(line)\n",
    "file.close()"
   ]
  },
  {
   "cell_type": "markdown",
   "metadata": {},
   "source": [
    "Using readline()"
   ]
  },
  {
   "cell_type": "code",
   "execution_count": 13,
   "metadata": {},
   "outputs": [
    {
     "name": "stdout",
     "output_type": "stream",
     "text": [
      "Khalil - golzar\n",
      "Khalil = man\n"
     ]
    }
   ],
   "source": [
    "file = open(\"Khalil.txt\", \"r\")\n",
    "lines = file.readlines()\n",
    "for line in lines:\n",
    "    print(line.strip())\n",
    "file.close()    "
   ]
  },
  {
   "cell_type": "markdown",
   "metadata": {},
   "source": [
    "#### 3. Using with open() (Recommended)\n",
    "The with statement automatically closes the file after reading."
   ]
  },
  {
   "cell_type": "code",
   "execution_count": 15,
   "metadata": {},
   "outputs": [
    {
     "name": "stdout",
     "output_type": "stream",
     "text": [
      "Khalil - golzar\n",
      "Khalil = man\n"
     ]
    }
   ],
   "source": [
    "with open(\"khalil.txt\", \"r\") as file:\n",
    "    content = file.read()\n",
    "    print(content)"
   ]
  },
  {
   "cell_type": "markdown",
   "metadata": {},
   "source": [
    "#### 4. Reading CSV Files\n",
    "1. CSV files are commonly used in data processing.\n",
    "\n",
    "Using csv Module"
   ]
  },
  {
   "cell_type": "code",
   "execution_count": null,
   "metadata": {},
   "outputs": [],
   "source": [
    "import csv\n",
    "\n",
    "with open(\"data.csv\", newline = \"\", encoding = \"utf - 8\") as file:\n",
    "    reader = csv.reader(file) #reads CSV file\n",
    "    for row in reader:\n",
    "        print(row) # Each row is a list of values"
   ]
  },
  {
   "cell_type": "markdown",
   "metadata": {},
   "source": [
    "#### Reading CSV as Dictionary"
   ]
  },
  {
   "cell_type": "code",
   "execution_count": null,
   "metadata": {},
   "outputs": [],
   "source": [
    "with open(\"data.csv\", newline='', encoding='utf-8') as file:\n",
    "    reader = csv.DictReader(file)\n",
    "    for row in reader:\n",
    "        print(row[\"ColumnName\"])  # Access specific column by name"
   ]
  },
  {
   "cell_type": "markdown",
   "metadata": {},
   "source": [
    "#### 5. Reading JSON Files\n",
    "For structured data, use the json module."
   ]
  },
  {
   "cell_type": "code",
   "execution_count": null,
   "metadata": {},
   "outputs": [],
   "source": [
    "import json\n",
    "\n",
    "with open(\"data.json\", \"r\", encoding=\"utf-8\") as file:\n",
    "    data = json.load(file)  # Reads JSON and converts it into a Python dictionary\n",
    "    print(data)\n"
   ]
  },
  {
   "cell_type": "markdown",
   "metadata": {},
   "source": [
    "#### 6. Reading Binary Files (Images, PDFs)\n"
   ]
  },
  {
   "cell_type": "code",
   "execution_count": null,
   "metadata": {},
   "outputs": [],
   "source": [
    "with open(\"image.png\", \"rb\") as file:\n",
    "    data = file.read()  # Reads binary content\n",
    "    print(len(data))  # Prints file size in bytes\n"
   ]
  }
 ],
 "metadata": {
  "kernelspec": {
   "display_name": "base",
   "language": "python",
   "name": "python3"
  },
  "language_info": {
   "codemirror_mode": {
    "name": "ipython",
    "version": 3
   },
   "file_extension": ".py",
   "mimetype": "text/x-python",
   "name": "python",
   "nbconvert_exporter": "python",
   "pygments_lexer": "ipython3",
   "version": "3.11.7"
  }
 },
 "nbformat": 4,
 "nbformat_minor": 2
}
