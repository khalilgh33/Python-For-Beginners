{
 "cells": [
  {
   "cell_type": "markdown",
   "metadata": {},
   "source": [
    "### Python if Statement Tutorial\n",
    "Introduction:\\\n",
    "The if statement in Python is used for decision-making. It allows a program to execute certain parts of code \n",
    "only when specific conditions are met.\n",
    "\n"
   ]
  },
  {
   "cell_type": "markdown",
   "metadata": {},
   "source": [
    "1. Basic if Statement\\\n",
    "The simplest form of an if statement checks whether a condition is True. If it is, the code inside the if block is executed."
   ]
  },
  {
   "cell_type": "markdown",
   "metadata": {},
   "source": [
    "Syntax:\n"
   ]
  },
  {
   "cell_type": "code",
   "execution_count": 2,
   "metadata": {},
   "outputs": [
    {
     "name": "stdout",
     "output_type": "stream",
     "text": [
      "You are eligible to vote.\n"
     ]
    }
   ],
   "source": [
    "'''\n",
    "if condition:\n",
    "    # Code to execute if the condition is True\n",
    "'''\n",
    "\n",
    "age = 18\n",
    "if age >= 18:\n",
    "    print(\"You are eligible to vote.\")"
   ]
  },
  {
   "cell_type": "markdown",
   "metadata": {},
   "source": [
    "2. if-else Statement\\\n",
    "An if-else statement is used when we want to execute one block of code if the condition is True and another block if the condition is False."
   ]
  },
  {
   "cell_type": "code",
   "execution_count": 3,
   "metadata": {},
   "outputs": [
    {
     "name": "stdout",
     "output_type": "stream",
     "text": [
      "It is a cold day\n"
     ]
    }
   ],
   "source": [
    "'''\n",
    "if condition:\n",
    "    # Code executed if condition is True\n",
    "else:\n",
    "    # Code executed if condition is False\n",
    "\n",
    "'''\n",
    "\n",
    "temprature = 15\n",
    "if temprature > 20:\n",
    "    print(\"It is a warm day\")\n",
    "\n",
    "else:\n",
    "    print(\"It is a cold day\")    "
   ]
  },
  {
   "cell_type": "markdown",
   "metadata": {},
   "source": [
    "3. if-elif-else Statement\\\n",
    "When there are multiple conditions, we use elif (short for \"else if\")."
   ]
  },
  {
   "cell_type": "code",
   "execution_count": 4,
   "metadata": {},
   "outputs": [
    {
     "name": "stdout",
     "output_type": "stream",
     "text": [
      "Grade: C\n"
     ]
    }
   ],
   "source": [
    "'''\n",
    "if condition1:\n",
    "    # Code executed if condition1 is True\n",
    "elif condition2:\n",
    "    # Code executed if condition2 is True\n",
    "else:\n",
    "    # Code executed if none of the above conditions are True\n",
    "\n",
    "'''\n",
    "\n",
    "score = 75\n",
    "\n",
    "if score >= 90:\n",
    "    print(\"Grade : A\")\n",
    "elif score >=80:\n",
    "    print(\"Grade: B\")\n",
    "elif score >= 70:\n",
    "    print(\"Grade: C\")\n",
    "else:\n",
    "    print(\"Grade: F\")            "
   ]
  },
  {
   "cell_type": "markdown",
   "metadata": {},
   "source": [
    "4. Using if Statements with Logical Operators\\\n",
    "Python allows combining multiple conditions using logical operators:\\\n",
    "\n",
    "1. and (both conditions must be True)\n",
    "2. or (at least one condition must be True)\n",
    "3. not (reverses the condition)"
   ]
  },
  {
   "cell_type": "code",
   "execution_count": 6,
   "metadata": {},
   "outputs": [
    {
     "name": "stdout",
     "output_type": "stream",
     "text": [
      "You can not drive\n"
     ]
    }
   ],
   "source": [
    "age = 17\n",
    "has_license = True\n",
    "\n",
    "if age >= 18 and has_license:\n",
    "    print(\"You can drive\")\n",
    "else:\n",
    "    print(\"You can not drive\")    "
   ]
  },
  {
   "cell_type": "markdown",
   "metadata": {},
   "source": [
    "5. Nested if Statements\\\n",
    "An if statement inside another if statement is called nested if."
   ]
  },
  {
   "cell_type": "code",
   "execution_count": 7,
   "metadata": {},
   "outputs": [
    {
     "name": "stdout",
     "output_type": "stream",
     "text": [
      "Number is positive.\n",
      "Number is even\n"
     ]
    }
   ],
   "source": [
    "num = 10\n",
    "if num > 0:\n",
    "    print(\"Number is positive.\")\n",
    "\n",
    "if num % 2 ==0:\n",
    "    print(\"Number is even\")"
   ]
  },
  {
   "cell_type": "markdown",
   "metadata": {},
   "source": [
    "6. Short-Hand if Statements\\\n",
    "Python allows writing if statements in a single line for simple conditions."
   ]
  },
  {
   "cell_type": "code",
   "execution_count": 8,
   "metadata": {},
   "outputs": [
    {
     "name": "stdout",
     "output_type": "stream",
     "text": [
      "x is greater than 5\n"
     ]
    }
   ],
   "source": [
    "x = 10\n",
    "if x > 5: print(\"x is greater than 5\")"
   ]
  },
  {
   "cell_type": "markdown",
   "metadata": {},
   "source": [
    "For if-else in one line, use the ternary operator:"
   ]
  },
  {
   "cell_type": "code",
   "execution_count": 9,
   "metadata": {},
   "outputs": [
    {
     "name": "stdout",
     "output_type": "stream",
     "text": [
      "y is even\n"
     ]
    }
   ],
   "source": [
    "y = 20\n",
    "print(\"y is even\") if y % 2 == 0 else print(\"y is odd\")"
   ]
  },
  {
   "cell_type": "markdown",
   "metadata": {},
   "source": [
    "7. pass Statement in if\\\n",
    "If you want an if block but don’t want it to do anything, use the pass keyword."
   ]
  },
  {
   "cell_type": "code",
   "execution_count": 12,
   "metadata": {},
   "outputs": [],
   "source": [
    "x = 10\n",
    "if x > 5:\n",
    "    pass # placeholder for future code\n",
    "\n",
    "#No output, but the program runs without errors."
   ]
  },
  {
   "cell_type": "markdown",
   "metadata": {},
   "source": [
    "8. Common Mistakes to Avoid\\\n",
    "❌ Indentation Error: Python requires correct indentation."
   ]
  },
  {
   "cell_type": "code",
   "execution_count": 15,
   "metadata": {},
   "outputs": [
    {
     "ename": "IndentationError",
     "evalue": "expected an indented block after 'if' statement on line 1 (2317480779.py, line 2)",
     "output_type": "error",
     "traceback": [
      "\u001b[1;36m  Cell \u001b[1;32mIn[15], line 2\u001b[1;36m\u001b[0m\n\u001b[1;33m    print(\"x is greater than 5\") # Incorrect indentation\u001b[0m\n\u001b[1;37m    ^\u001b[0m\n\u001b[1;31mIndentationError\u001b[0m\u001b[1;31m:\u001b[0m expected an indented block after 'if' statement on line 1\n"
     ]
    }
   ],
   "source": [
    "if x > 5:\n",
    "print(\"x is greater than 5\") # Incorrect indentation"
   ]
  },
  {
   "cell_type": "markdown",
   "metadata": {},
   "source": [
    "❌ Using = instead of == (Assignment instead of comparison)"
   ]
  },
  {
   "cell_type": "code",
   "execution_count": 16,
   "metadata": {},
   "outputs": [
    {
     "ename": "SyntaxError",
     "evalue": "invalid syntax. Maybe you meant '==' or ':=' instead of '='? (267413360.py, line 1)",
     "output_type": "error",
     "traceback": [
      "\u001b[1;36m  Cell \u001b[1;32mIn[16], line 1\u001b[1;36m\u001b[0m\n\u001b[1;33m    if x = 10:  # Incorrect\u001b[0m\n\u001b[1;37m       ^\u001b[0m\n\u001b[1;31mSyntaxError\u001b[0m\u001b[1;31m:\u001b[0m invalid syntax. Maybe you meant '==' or ':=' instead of '='?\n"
     ]
    }
   ],
   "source": [
    "if x = 10:  # Incorrect\n"
   ]
  },
  {
   "cell_type": "markdown",
   "metadata": {},
   "source": [
    "# Python `if` Statement Summary Table\n",
    "\n",
    "| Statement Type  | Syntax Example  | Description |\n",
    "|----------------|----------------|-------------|\n",
    "| **`if`**      | `if x > 5:`      | Runs code if condition is `True` |\n",
    "| **`if-else`**  | `if x > 5: else:` | Executes one of two blocks based on condition |\n",
    "| **`if-elif-else`** | `if x > 10: elif x > 5: else:` | Checks multiple conditions |\n",
    "| **Logical Operators** | `if x > 5 and y < 10:` | Combines conditions using `and`, `or`, `not` |\n",
    "| **Nested `if`**   | `if x > 0: if x < 10:` | `if` inside another `if` |\n",
    "| **Short-hand `if`** | `print(\"Yes\") if x > 5 else print(\"No\")` | One-line conditional |\n"
   ]
  },
  {
   "cell_type": "code",
   "execution_count": 27,
   "metadata": {},
   "outputs": [
    {
     "name": "stdout",
     "output_type": "stream",
     "text": [
      "You are a male\n"
     ]
    }
   ],
   "source": [
    "# Example \n",
    "is_male = True\n",
    "if is_male:\n",
    "    print(\"You are a male\")\n",
    "\n",
    "else:\n",
    "    print(\"You are not a male\")    "
   ]
  },
  {
   "cell_type": "code",
   "execution_count": 28,
   "metadata": {},
   "outputs": [
    {
     "name": "stdout",
     "output_type": "stream",
     "text": [
      "You neither a male nor tall\n"
     ]
    }
   ],
   "source": [
    "# Example Or\n",
    "is_male = False\n",
    "is_tall = False\n",
    "if is_male or is_tall:\n",
    "    print(\"You are a male or tall or both\")\n",
    "\n",
    "else:\n",
    "    print(\"You neither a male nor tall\")    "
   ]
  },
  {
   "cell_type": "code",
   "execution_count": 29,
   "metadata": {},
   "outputs": [
    {
     "name": "stdout",
     "output_type": "stream",
     "text": [
      "You neither a male nor tall\n"
     ]
    }
   ],
   "source": [
    "# Example AND\n",
    "is_male = True\n",
    "is_tall = False\n",
    "if is_male and is_tall:\n",
    "    print(\"You are a male or tall or both\")\n",
    "\n",
    "else:\n",
    "    print(\"You neither a male nor tall\")    "
   ]
  },
  {
   "cell_type": "code",
   "execution_count": 30,
   "metadata": {},
   "outputs": [
    {
     "name": "stdout",
     "output_type": "stream",
     "text": [
      "You are a male or tall or both\n"
     ]
    }
   ],
   "source": [
    "# Example Not\n",
    "is_male = True\n",
    "is_tall = False\n",
    "if is_male and not is_tall:\n",
    "    print(\"You are a male or tall or both\")\n",
    "\n",
    "else:\n",
    "    print(\"You neither a male nor tall\")    "
   ]
  },
  {
   "cell_type": "code",
   "execution_count": 33,
   "metadata": {},
   "outputs": [
    {
     "name": "stdout",
     "output_type": "stream",
     "text": [
      "5\n"
     ]
    }
   ],
   "source": [
    "# comparison in if statement\n",
    "def max_num(num1, num2, num3):\n",
    "    if num1 >= num2 and num1 >=num3:\n",
    "        return num1\n",
    "    elif num2 >= num1 and num2 >= num3:\n",
    "        return num2\n",
    "    else:\n",
    "        return num3\n",
    "\n",
    "print(max_num(3,4,5))"
   ]
  },
  {
   "cell_type": "code",
   "execution_count": null,
   "metadata": {},
   "outputs": [],
   "source": []
  }
 ],
 "metadata": {
  "kernelspec": {
   "display_name": "base",
   "language": "python",
   "name": "python3"
  },
  "language_info": {
   "codemirror_mode": {
    "name": "ipython",
    "version": 3
   },
   "file_extension": ".py",
   "mimetype": "text/x-python",
   "name": "python",
   "nbconvert_exporter": "python",
   "pygments_lexer": "ipython3",
   "version": "3.11.7"
  }
 },
 "nbformat": 4,
 "nbformat_minor": 2
}
