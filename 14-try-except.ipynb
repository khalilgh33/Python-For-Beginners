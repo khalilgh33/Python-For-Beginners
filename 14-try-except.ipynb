{
 "cells": [
  {
   "cell_type": "markdown",
   "metadata": {},
   "source": [
    "#### Python Tutorial: Exception Handling using try and except\n",
    "#### Introduction\n",
    "Errors are common in programming, and Python provides a way to handle them gracefully using try and except blocks. Exception handling helps prevent programs from crashing due to unexpected errors.\n",
    "\n"
   ]
  },
  {
   "cell_type": "markdown",
   "metadata": {},
   "source": [
    "1. What is Exception Handling?\n",
    "Exception handling is a technique to handle runtime errors without stopping the entire program.\n",
    "\n",
    "Example of an Error Without Handling"
   ]
  },
  {
   "cell_type": "code",
   "execution_count": 12,
   "metadata": {},
   "outputs": [
    {
     "ename": "ValueError",
     "evalue": "invalid literal for int() with base 10: 'hello'",
     "output_type": "error",
     "traceback": [
      "\u001b[1;31m---------------------------------------------------------------------------\u001b[0m",
      "\u001b[1;31mValueError\u001b[0m                                Traceback (most recent call last)",
      "Cell \u001b[1;32mIn[12], line 1\u001b[0m\n\u001b[1;32m----> 1\u001b[0m num \u001b[38;5;241m=\u001b[39m \u001b[38;5;28mint\u001b[39m(\u001b[38;5;28minput\u001b[39m(\u001b[38;5;124m\"\u001b[39m\u001b[38;5;124mEnter a number:\u001b[39m\u001b[38;5;124m\"\u001b[39m)) \u001b[38;5;66;03m#if input is (hello),  it will cause valuError.\u001b[39;00m\n\u001b[0;32m      2\u001b[0m \u001b[38;5;28mprint\u001b[39m(num \u001b[38;5;241m*\u001b[39m \u001b[38;5;241m2\u001b[39m)\n",
      "\u001b[1;31mValueError\u001b[0m: invalid literal for int() with base 10: 'hello'"
     ]
    }
   ],
   "source": [
    "num = int(input(\"Enter a number:\")) #if input is (hello),  it will cause valuError.\n",
    "print(num * 2)"
   ]
  },
  {
   "cell_type": "markdown",
   "metadata": {},
   "source": [
    "2. Using try and except\\\n",
    "The try block lets you test a block of code for errors.\\\n",
    "The except block lets you handle the error."
   ]
  },
  {
   "cell_type": "code",
   "execution_count": 14,
   "metadata": {},
   "outputs": [
    {
     "ename": "IndentationError",
     "evalue": "expected an indented block after 'try' statement on line 1 (659211822.py, line 3)",
     "output_type": "error",
     "traceback": [
      "\u001b[1;36m  Cell \u001b[1;32mIn[14], line 3\u001b[1;36m\u001b[0m\n\u001b[1;33m    except:\u001b[0m\n\u001b[1;37m    ^\u001b[0m\n\u001b[1;31mIndentationError\u001b[0m\u001b[1;31m:\u001b[0m expected an indented block after 'try' statement on line 1\n"
     ]
    }
   ],
   "source": [
    "try:\n",
    "    # Code that may cause an error\n",
    "except:\n",
    "    #Code that runs if an error occurs    "
   ]
  },
  {
   "cell_type": "markdown",
   "metadata": {},
   "source": [
    "##### Example"
   ]
  },
  {
   "cell_type": "code",
   "execution_count": 15,
   "metadata": {},
   "outputs": [
    {
     "name": "stdout",
     "output_type": "stream",
     "text": [
      "Error! Please Enter a valid number.\n"
     ]
    }
   ],
   "source": [
    "try:\n",
    "    num = int(input(\"Enter a number : \")) # Try to convert input to integer\n",
    "    print(num *2) # Print double the number\n",
    "except:\n",
    "    print(\"Error! Please Enter a valid number.\")    "
   ]
  },
  {
   "cell_type": "markdown",
   "metadata": {},
   "source": [
    "#### 3. Handling Specific Exceptions\n",
    "Instead of handling all errors, you can handle specific types of errors.\n",
    "##### Common Python Errors\n",
    "\n",
    "| Error Type         | Description                               |\n",
    "|--------------------|-------------------------------------------|\n",
    "| `ZeroDivisionError` | Division by zero                         |\n",
    "| `ValueError`       | Wrong value type (e.g., text instead of a number) |\n",
    "| `IndexError`       | Index out of range in a list             |\n",
    "| `KeyError`         | Key not found in a dictionary            |\n",
    "| `TypeError`        | Wrong data type used                     |\n"
   ]
  },
  {
   "cell_type": "code",
   "execution_count": 18,
   "metadata": {},
   "outputs": [
    {
     "name": "stdout",
     "output_type": "stream",
     "text": [
      "Enter! You can not divide by zero\n"
     ]
    }
   ],
   "source": [
    "try:\n",
    "    num = int(input(\"Error a number \"))\n",
    "    result = 10 / num # This will cause ZeroDivisionError if num = \n",
    "except ValueError:\n",
    "    print(\"Enter! Please enter a number, not text\")\n",
    "except ZeroDivisionError:\n",
    "    print(\"Enter! You can not divide by zero\")    "
   ]
  },
  {
   "cell_type": "markdown",
   "metadata": {},
   "source": [
    "#### 4. Using else and finally\n",
    "1. else: Runs if no error occurs.\n",
    "2. finally: Always runs, whether there is an error or not."
   ]
  },
  {
   "cell_type": "code",
   "execution_count": 19,
   "metadata": {},
   "outputs": [
    {
     "name": "stdout",
     "output_type": "stream",
     "text": [
      "Error! Division by zero is not allowed\n",
      "Execution completed.\n"
     ]
    }
   ],
   "source": [
    "try:\n",
    "    num = int(input(\"Enter a number: \"))\n",
    "    result = 10 / num\n",
    "\n",
    "except ValueError:\n",
    "    print(\"Error! Enter a valid number\")    \n",
    "except ZeroDivisionError:\n",
    "    print(\"Error! Division by zero is not allowed\") \n",
    "else:\n",
    "    print(f\"Result; {result}\") #Runs only if not error occurs\n",
    "finally:\n",
    "    print(\"Execution completed.\") # Runs always       "
   ]
  },
  {
   "cell_type": "markdown",
   "metadata": {},
   "source": [
    "#### 5. Raising Custom Errors (raise)\n",
    "You can manually raise an error using raise.\n",
    "\n",
    "#### Example"
   ]
  },
  {
   "cell_type": "code",
   "execution_count": 20,
   "metadata": {},
   "outputs": [
    {
     "name": "stdout",
     "output_type": "stream",
     "text": [
      "Your age is 50\n"
     ]
    }
   ],
   "source": [
    "age = int(input(\"Enter your age: \"))\n",
    "if age < 0:\n",
    "    raise ValueError (\"Age can not be neative!\")\n",
    "print(f\"Your age is {age}\")\n",
    "\n",
    "#🔴 If the user enters -5, the program raises an error: ValueError: Age cannot be negative!\n",
    "\n"
   ]
  },
  {
   "cell_type": "markdown",
   "metadata": {},
   "source": [
    "#### 6. Using try in Loops\n",
    "If an error occurs, the program can ask the user to try again."
   ]
  },
  {
   "cell_type": "code",
   "execution_count": 3,
   "metadata": {},
   "outputs": [],
   "source": [
    "while True:\n",
    "    try:\n",
    "        num = int(input(\"Enter a number: \"))\n",
    "        break # Exit loop if input is correct\n",
    "    except ValueError:\n",
    "        print(\"Invalid input. Please enter a number\")  \n",
    "        \n",
    "          \n",
    "#✅ Now, the user will keep trying until they enter a correct number.\n",
    "\n"
   ]
  },
  {
   "cell_type": "code",
   "execution_count": null,
   "metadata": {},
   "outputs": [],
   "source": []
  }
 ],
 "metadata": {
  "kernelspec": {
   "display_name": "base",
   "language": "python",
   "name": "python3"
  },
  "language_info": {
   "codemirror_mode": {
    "name": "ipython",
    "version": 3
   },
   "file_extension": ".py",
   "mimetype": "text/x-python",
   "name": "python",
   "nbconvert_exporter": "python",
   "pygments_lexer": "ipython3",
   "version": "3.11.7"
  }
 },
 "nbformat": 4,
 "nbformat_minor": 2
}
