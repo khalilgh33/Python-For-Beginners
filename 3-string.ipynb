{
 "cells": [
  {
   "cell_type": "markdown",
   "metadata": {},
   "source": [
    "Here are different examples demonstrating how strings work in Python."
   ]
  },
  {
   "cell_type": "markdown",
   "metadata": {},
   "source": [
    "1️⃣ Basic String Declaration"
   ]
  },
  {
   "cell_type": "code",
   "execution_count": 2,
   "metadata": {},
   "outputs": [
    {
     "name": "stdout",
     "output_type": "stream",
     "text": [
      "Hello world\n",
      "python is fun\n"
     ]
    }
   ],
   "source": [
    "#Using sngle or double quote, there is no diffrent between \"\" and '' in python programming\n",
    "string1 = \"Hello world\"\n",
    "string2 = 'python is fun'\n",
    "\n",
    "print(string1)\n",
    "print(string2)"
   ]
  },
  {
   "cell_type": "markdown",
   "metadata": {},
   "source": [
    "2️⃣ String Concatenation (Joining Strings)"
   ]
  },
  {
   "cell_type": "code",
   "execution_count": 4,
   "metadata": {},
   "outputs": [
    {
     "name": "stdout",
     "output_type": "stream",
     "text": [
      "Full name:  Khalil Gholamnia\n"
     ]
    }
   ],
   "source": [
    "first_name = \"Khalil\"\n",
    "last_name = \"Gholamnia\"\n",
    "\n",
    "full_name = first_name + \" \" + last_name # jointing with a space\n",
    "\n",
    "print(\"Full name: \", full_name)"
   ]
  },
  {
   "cell_type": "markdown",
   "metadata": {},
   "source": [
    "3️⃣ String Repetition (* Operator)"
   ]
  },
  {
   "cell_type": "code",
   "execution_count": 5,
   "metadata": {},
   "outputs": [
    {
     "name": "stdout",
     "output_type": "stream",
     "text": [
      "HaHaHaHaHa\n"
     ]
    }
   ],
   "source": [
    "laugh = \"Ha\" * 5\n",
    "print(laugh)"
   ]
  },
  {
   "cell_type": "markdown",
   "metadata": {},
   "source": [
    "4️⃣ String Indexing (Accessing Characters)"
   ]
  },
  {
   "cell_type": "code",
   "execution_count": 9,
   "metadata": {},
   "outputs": [
    {
     "name": "stdout",
     "output_type": "stream",
     "text": [
      "p\n",
      "n\n"
     ]
    }
   ],
   "source": [
    "# python count from 0 and if you count inversly you can count from -1\n",
    "text = \"python\"\n",
    "print(text[0]) # first chracter (P)\n",
    "print(text[-1]) # last chracter (n)"
   ]
  },
  {
   "cell_type": "markdown",
   "metadata": {},
   "source": [
    "5️⃣ String Slicing (Extracting Parts)"
   ]
  },
  {
   "cell_type": "code",
   "execution_count": 11,
   "metadata": {},
   "outputs": [
    {
     "name": "stdout",
     "output_type": "stream",
     "text": [
      "khali\n",
      "khalil\n",
      "Gholamnia\n",
      "6\n"
     ]
    }
   ],
   "source": [
    "text = \"khalilGholamnia\"\n",
    "print(text[0:5]) # extract \"Khali\"\n",
    "print(text[:6]) # extract Khalil\n",
    "print(text[6:]) # extract Gholamnia\n",
    "print(text.index(\"G\")) # it shows index each chracter"
   ]
  },
  {
   "cell_type": "markdown",
   "metadata": {},
   "source": [
    "6️⃣ Changing Case (Upper & Lower)"
   ]
  },
  {
   "cell_type": "code",
   "execution_count": 8,
   "metadata": {},
   "outputs": [
    {
     "name": "stdout",
     "output_type": "stream",
     "text": [
      "HI KHALIL GHOLAMNIA\n",
      "hi khalil gholamnia\n",
      "False\n",
      "True\n"
     ]
    }
   ],
   "source": [
    "message = \"hi khalil gholamnia\"\n",
    "print(message.upper()) # convert to uppercase\n",
    "print(message.lower()) # conver to lovercase\n",
    "print(message.isupper()) # print that there is upper chracter in words True or false\n",
    "print(message.islower()) # print that there is upper chracter in words True or false"
   ]
  },
  {
   "cell_type": "markdown",
   "metadata": {},
   "source": [
    "7️⃣ Checking String Length"
   ]
  },
  {
   "cell_type": "code",
   "execution_count": 16,
   "metadata": {},
   "outputs": [
    {
     "name": "stdout",
     "output_type": "stream",
     "text": [
      "length: 19\n"
     ]
    }
   ],
   "source": [
    "text = \"khalil is a student\"\n",
    "print(\"length:\", len(text))"
   ]
  },
  {
   "cell_type": "markdown",
   "metadata": {},
   "source": [
    "8️⃣ Checking if a Word Exists (in Operator)"
   ]
  },
  {
   "cell_type": "code",
   "execution_count": 18,
   "metadata": {},
   "outputs": [
    {
     "name": "stdout",
     "output_type": "stream",
     "text": [
      "True\n",
      "False\n"
     ]
    }
   ],
   "source": [
    "sentence = \" I love programming in Python.\"\n",
    "print(\"Python\" in sentence) # check if \"python\" is in the sentence\n",
    "print(\"jave\" in sentence) # check if \"java\" is in the sentence"
   ]
  },
  {
   "cell_type": "markdown",
   "metadata": {},
   "source": [
    "9️⃣ Replacing Words in a String "
   ]
  },
  {
   "cell_type": "code",
   "execution_count": 20,
   "metadata": {},
   "outputs": [
    {
     "name": "stdout",
     "output_type": "stream",
     "text": [
      "I like Oranges.\n"
     ]
    }
   ],
   "source": [
    "text = \"I like apples.\"\n",
    "new_text = text.replace(\"apples\", \"Oranges\")\n",
    "print(new_text)"
   ]
  },
  {
   "cell_type": "markdown",
   "metadata": {},
   "source": [
    "🔟 Splitting a String into a List\n"
   ]
  },
  {
   "cell_type": "code",
   "execution_count": 21,
   "metadata": {},
   "outputs": [
    {
     "name": "stdout",
     "output_type": "stream",
     "text": [
      "['Python', 'is', 'easy', 'to', 'learn.']\n"
     ]
    }
   ],
   "source": [
    "sentence = \"Python is easy to learn.\"\n",
    "words = sentence.split() # splits by space\n",
    "print(words)"
   ]
  },
  {
   "cell_type": "markdown",
   "metadata": {},
   "source": [
    "1️⃣1️⃣ Joining a List into a String"
   ]
  },
  {
   "cell_type": "code",
   "execution_count": 23,
   "metadata": {},
   "outputs": [
    {
     "name": "stdout",
     "output_type": "stream",
     "text": [
      "Python is awesome\n"
     ]
    }
   ],
   "source": [
    "words = [\"Python\", \"is\", \"awesome\"]\n",
    "sentence = \" \".join(words)\n",
    "print(sentence)"
   ]
  },
  {
   "cell_type": "markdown",
   "metadata": {},
   "source": [
    "1️⃣2️⃣ Removing Extra Spaces (strip())"
   ]
  },
  {
   "cell_type": "code",
   "execution_count": 26,
   "metadata": {},
   "outputs": [
    {
     "name": "stdout",
     "output_type": "stream",
     "text": [
      "hello world\n"
     ]
    }
   ],
   "source": [
    "text = \"    hello world\"\n",
    "print(text.strip()) # Remove space from start and end"
   ]
  },
  {
   "cell_type": "markdown",
   "metadata": {},
   "source": [
    "1️⃣3️⃣ Formatting Strings (f-strings)"
   ]
  },
  {
   "cell_type": "code",
   "execution_count": 27,
   "metadata": {},
   "outputs": [
    {
     "name": "stdout",
     "output_type": "stream",
     "text": [
      "My name is khalil and I am 30 years old\n"
     ]
    }
   ],
   "source": [
    "name = \"khalil\"\n",
    "age = 30\n",
    "print(f\"My name is {name} and I am {age} years old\")"
   ]
  },
  {
   "cell_type": "markdown",
   "metadata": {},
   "source": [
    "# 📌 Python String Operations\n",
    "\n",
    "## 🔹 Common String Operations in Python\n",
    "\n",
    "| **Operation**     | **Example**                    | **Output**       |\n",
    "|------------------|--------------------------------|------------------|\n",
    "| **Concatenation (`+`)** | `\"Hello\" + \" World\"`  | `\"Hello World\"`  |\n",
    "| **Repetition (`*`)** | `\"Ha\" * 3`  | `\"HaHaHa\"`  |\n",
    "| **Indexing** | `\"Python\"[0]`  | `'P'`  |\n",
    "| **Slicing** | `\"Python\"[0:3]`  | `\"Pyt\"`  |\n",
    "| **Uppercase** | `\"hello\".upper()`  | `\"HELLO\"`  |\n",
    "| **Lowercase** | `\"HELLO\".lower()`  | `\"hello\"`  |\n",
    "| **Find Length** | `len(\"Python\")`  | `6`  |\n",
    "| **Word Check (`in`)** | `\"Py\" in \"Python\"`  | `True`  |\n",
    "| **Replace Substring** | `\"Hi\".replace(\"Hi\", \"Hello\")`  | `\"Hello\"`  |\n",
    "| **Split String** | `\"A B C\".split()`  | `[\"A\", \"B\", \"C\"]`  |\n",
    "| **Join List to String** | `\" \".join([\"A\", \"B\", \"C\"])`  | `\"A B C\"`  |\n"
   ]
  },
  {
   "cell_type": "markdown",
   "metadata": {},
   "source": [
    "The \\n (newline escape sequence) tells Python to move the following text to a new line.\n"
   ]
  },
  {
   "cell_type": "code",
   "execution_count": 4,
   "metadata": {},
   "outputs": [
    {
     "name": "stdout",
     "output_type": "stream",
     "text": [
      "Khalil\\Gholamnia\n",
      "Khalil\n",
      "Gholamnia\n"
     ]
    }
   ],
   "source": [
    "print(\"Khalil\\Gholamnia\")\n",
    "print(\"Khalil\\nGholamnia\") #n\\ move Gholamnia to next line\n"
   ]
  },
  {
   "cell_type": "code",
   "execution_count": null,
   "metadata": {},
   "outputs": [],
   "source": []
  }
 ],
 "metadata": {
  "kernelspec": {
   "display_name": "base",
   "language": "python",
   "name": "python3"
  },
  "language_info": {
   "codemirror_mode": {
    "name": "ipython",
    "version": 3
   },
   "file_extension": ".py",
   "mimetype": "text/x-python",
   "name": "python",
   "nbconvert_exporter": "python",
   "pygments_lexer": "ipython3",
   "version": "3.11.7"
  }
 },
 "nbformat": 4,
 "nbformat_minor": 2
}
