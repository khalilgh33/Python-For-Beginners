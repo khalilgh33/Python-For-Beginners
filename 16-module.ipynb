{
 "cells": [
  {
   "cell_type": "markdown",
   "metadata": {},
   "source": [
    "#### Python Modules and pip Tutorial\n",
    "1. What is a Module in Python?\n",
    "A module in Python is a file that contains Python code, typically functions and classes, which can be reused in other programs.\n",
    "\n",
    "1.1 Creating a Simple Module\\\n",
    "To create a module:\n",
    "\n",
    "1. Create a new Python file, e.g., mymodule.py\n",
    "2. Define functions or variables inside it.\\\n",
    "Example: Creating mymodule.py"
   ]
  },
  {
   "cell_type": "code",
   "execution_count": 3,
   "metadata": {},
   "outputs": [],
   "source": [
    "# mumodule.py, save this code in .py file\n",
    "def greet(name):\n",
    "    return f\"Hello, {name}\"\n",
    "    \n",
    "def add(a,b):\n",
    "    return a + b    "
   ]
  },
  {
   "cell_type": "markdown",
   "metadata": {},
   "source": [
    "#### 1.2 Importing the Module\n",
    "Once created, you can import and use mymodule.py in another Python script."
   ]
  },
  {
   "cell_type": "code",
   "execution_count": 5,
   "metadata": {},
   "outputs": [
    {
     "name": "stdout",
     "output_type": "stream",
     "text": [
      "Hello, Khalil\n",
      "8\n"
     ]
    }
   ],
   "source": [
    "import mymodule\n",
    "\n",
    "print(mymodule.greet(\"Khalil\")) # Output: Hello Khalil\n",
    "print(mymodule.add(3,5))  # output: 8"
   ]
  },
  {
   "cell_type": "markdown",
   "metadata": {},
   "source": [
    "#### 1.3 Importing Specific Functions\n",
    "Instead of importing the whole module, you can import specific functions."
   ]
  },
  {
   "cell_type": "code",
   "execution_count": 6,
   "metadata": {},
   "outputs": [
    {
     "name": "stdout",
     "output_type": "stream",
     "text": [
      "Hello, khalil\n"
     ]
    }
   ],
   "source": [
    "from mymodule import greet\n",
    "\n",
    "print(greet(\"khalil\")) # Output: Hello Khalil"
   ]
  },
  {
   "cell_type": "markdown",
   "metadata": {},
   "source": [
    "#### 2. Python’s Built-in Modules\n",
    "Python provides many built-in modules, such as:\\\n",
    "\n",
    "1. math → Mathematical operations\n",
    "2. os → Operating system functions\n",
    "3. datetime → Handling date and time\n",
    "4. random → Generating random numbers\n",
    "#### Example: Using Built-in Modules"
   ]
  },
  {
   "cell_type": "code",
   "execution_count": 8,
   "metadata": {},
   "outputs": [
    {
     "name": "stdout",
     "output_type": "stream",
     "text": [
      "5.0\n"
     ]
    }
   ],
   "source": [
    "import math\n",
    "\n",
    "print(math.sqrt(25))"
   ]
  },
  {
   "cell_type": "markdown",
   "metadata": {},
   "source": [
    "#### 3. What is pip?\n",
    "pip (Python Package Installer) is used to install external libraries.\n",
    "\n",
    "#### 3.1 Checking if pip is Installed\n",
    "Run the following command in the terminal (or Command Prompt):"
   ]
  },
  {
   "cell_type": "code",
   "execution_count": 11,
   "metadata": {},
   "outputs": [
    {
     "name": "stdout",
     "output_type": "stream",
     "text": [
      "pip 23.3.1 from C:\\Users\\Khalil\\anaconda3\\Lib\\site-packages\\pip (python 3.11)\n",
      "\n"
     ]
    }
   ],
   "source": [
    "!pip --version"
   ]
  },
  {
   "cell_type": "markdown",
   "metadata": {},
   "source": [
    "If pip is installed, you will see an output like:\n"
   ]
  },
  {
   "cell_type": "code",
   "execution_count": 12,
   "metadata": {},
   "outputs": [
    {
     "name": "stdout",
     "output_type": "stream",
     "text": [
      "Looking in links: c:\\Users\\Khalil\\AppData\\Local\\Temp\\tmp1410rdi2\n",
      "Requirement already satisfied: setuptools in c:\\users\\khalil\\anaconda3\\lib\\site-packages (68.2.2)\n",
      "Requirement already satisfied: pip in c:\\users\\khalil\\anaconda3\\lib\\site-packages (23.3.1)\n"
     ]
    }
   ],
   "source": [
    "!python -m ensurepip --default-pip"
   ]
  },
  {
   "cell_type": "markdown",
   "metadata": {},
   "source": [
    "#### 4. Installing Packages with pip\n",
    "To install a package, use:\n",
    "\n"
   ]
  },
  {
   "cell_type": "code",
   "execution_count": 14,
   "metadata": {},
   "outputs": [
    {
     "name": "stdout",
     "output_type": "stream",
     "text": [
      "Requirement already satisfied: numpy in c:\\users\\khalil\\anaconda3\\lib\\site-packages (1.26.4)\n"
     ]
    }
   ],
   "source": [
    "# pip install package_name- for example numpy\n",
    "!pip install numpy\n"
   ]
  },
  {
   "cell_type": "markdown",
   "metadata": {},
   "source": [
    "#### 4.1 Installing Multiple Packages\n",
    "You can install multiple packages at once:"
   ]
  },
  {
   "cell_type": "code",
   "execution_count": 15,
   "metadata": {},
   "outputs": [
    {
     "name": "stdout",
     "output_type": "stream",
     "text": [
      "Requirement already satisfied: numpy in c:\\users\\khalil\\anaconda3\\lib\\site-packages (1.26.4)\n",
      "Requirement already satisfied: pandas in c:\\users\\khalil\\anaconda3\\lib\\site-packages (2.1.4)\n",
      "Requirement already satisfied: matplotlib in c:\\users\\khalil\\anaconda3\\lib\\site-packages (3.8.0)\n",
      "Requirement already satisfied: python-dateutil>=2.8.2 in c:\\users\\khalil\\anaconda3\\lib\\site-packages (from pandas) (2.8.2)\n",
      "Requirement already satisfied: pytz>=2020.1 in c:\\users\\khalil\\anaconda3\\lib\\site-packages (from pandas) (2023.3.post1)\n",
      "Requirement already satisfied: tzdata>=2022.1 in c:\\users\\khalil\\anaconda3\\lib\\site-packages (from pandas) (2023.3)\n",
      "Requirement already satisfied: contourpy>=1.0.1 in c:\\users\\khalil\\anaconda3\\lib\\site-packages (from matplotlib) (1.2.0)\n",
      "Requirement already satisfied: cycler>=0.10 in c:\\users\\khalil\\anaconda3\\lib\\site-packages (from matplotlib) (0.11.0)\n",
      "Requirement already satisfied: fonttools>=4.22.0 in c:\\users\\khalil\\anaconda3\\lib\\site-packages (from matplotlib) (4.25.0)\n",
      "Requirement already satisfied: kiwisolver>=1.0.1 in c:\\users\\khalil\\anaconda3\\lib\\site-packages (from matplotlib) (1.4.4)\n",
      "Requirement already satisfied: packaging>=20.0 in c:\\users\\khalil\\anaconda3\\lib\\site-packages (from matplotlib) (23.1)\n",
      "Requirement already satisfied: pillow>=6.2.0 in c:\\users\\khalil\\anaconda3\\lib\\site-packages (from matplotlib) (10.2.0)\n",
      "Requirement already satisfied: pyparsing>=2.3.1 in c:\\users\\khalil\\anaconda3\\lib\\site-packages (from matplotlib) (3.0.9)\n",
      "Requirement already satisfied: six>=1.5 in c:\\users\\khalil\\anaconda3\\lib\\site-packages (from python-dateutil>=2.8.2->pandas) (1.16.0)\n"
     ]
    }
   ],
   "source": [
    "!pip install numpy pandas matplotlib\n"
   ]
  },
  {
   "cell_type": "markdown",
   "metadata": {},
   "source": [
    "#### 4.2 Installing a Specific Version\n",
    "If you need a specific version:"
   ]
  },
  {
   "cell_type": "code",
   "execution_count": 16,
   "metadata": {},
   "outputs": [
    {
     "name": "stdout",
     "output_type": "stream",
     "text": [
      "Collecting numpy==1.21.0\n",
      "  Downloading numpy-1.21.0.zip (10.3 MB)\n",
      "     ---------------------------------------- 0.0/10.3 MB ? eta -:--:--\n",
      "     ---------------------------------------- 0.0/10.3 MB ? eta -:--:--\n",
      "     --------------------------------------- 0.0/10.3 MB 262.6 kB/s eta 0:00:39\n",
      "     --------------------------------------- 0.1/10.3 MB 409.6 kB/s eta 0:00:25\n",
      "     - -------------------------------------- 0.3/10.3 MB 1.7 MB/s eta 0:00:06\n",
      "     --- ------------------------------------ 1.0/10.3 MB 4.3 MB/s eta 0:00:03\n",
      "     ------ --------------------------------- 1.7/10.3 MB 6.2 MB/s eta 0:00:02\n",
      "     --------- ------------------------------ 2.4/10.3 MB 7.7 MB/s eta 0:00:02\n",
      "     ------------ --------------------------- 3.2/10.3 MB 8.8 MB/s eta 0:00:01\n",
      "     --------------- ------------------------ 4.0/10.3 MB 9.8 MB/s eta 0:00:01\n",
      "     ------------------ --------------------- 4.7/10.3 MB 10.4 MB/s eta 0:00:01\n",
      "     --------------------- ------------------ 5.6/10.3 MB 11.1 MB/s eta 0:00:01\n",
      "     ------------------------ --------------- 6.2/10.3 MB 11.3 MB/s eta 0:00:01\n",
      "     -------------------------- ------------- 6.8/10.3 MB 11.4 MB/s eta 0:00:01\n",
      "     ----------------------------- ---------- 7.6/10.3 MB 11.8 MB/s eta 0:00:01\n",
      "     -------------------------------- ------- 8.2/10.3 MB 12.0 MB/s eta 0:00:01\n",
      "     ----------------------------------- ---- 9.1/10.3 MB 12.3 MB/s eta 0:00:01\n",
      "     -------------------------------------- - 9.9/10.3 MB 12.6 MB/s eta 0:00:01\n",
      "     --------------------------------------  10.3/10.3 MB 14.2 MB/s eta 0:00:01\n",
      "     --------------------------------------- 10.3/10.3 MB 13.3 MB/s eta 0:00:00\n",
      "  Installing build dependencies: started\n",
      "  Installing build dependencies: finished with status 'done'\n",
      "  Getting requirements to build wheel: started\n",
      "  Getting requirements to build wheel: finished with status 'done'\n",
      "  Preparing metadata (pyproject.toml): started\n",
      "  Preparing metadata (pyproject.toml): finished with status 'done'\n",
      "Building wheels for collected packages: numpy\n",
      "  Building wheel for numpy (pyproject.toml): started\n",
      "  Building wheel for numpy (pyproject.toml): finished with status 'error'\n",
      "Failed to build numpy\n"
     ]
    },
    {
     "name": "stderr",
     "output_type": "stream",
     "text": [
      "  error: subprocess-exited-with-error\n",
      "  \n",
      "  × Building wheel for numpy (pyproject.toml) did not run successfully.\n",
      "  │ exit code: 1\n",
      "  ╰─> [206 lines of output]\n",
      "      setup.py:63: RuntimeWarning: NumPy 1.21.0 may not yet support Python 3.11.\n",
      "        warnings.warn(\n",
      "      Running from numpy source directory.\n",
      "      Cythonizing sources\n",
      "      Processing numpy/random\\_bounded_integers.pxd.in\n",
      "      Processing numpy/random\\bit_generator.pyx\n",
      "      Processing numpy/random\\mtrand.pyx\n",
      "      Processing numpy/random\\_bounded_integers.pyx.in\n",
      "      Processing numpy/random\\_common.pyx\n",
      "      Processing numpy/random\\_generator.pyx\n",
      "      Processing numpy/random\\_mt19937.pyx\n",
      "      Processing numpy/random\\_pcg64.pyx\n",
      "      Processing numpy/random\\_philox.pyx\n",
      "      Processing numpy/random\\_sfc64.pyx\n",
      "      blas_opt_info:\n",
      "      blas_mkl_info:\n",
      "      No module named 'numpy.distutils._msvccompiler' in numpy.distutils; trying from distutils\n",
      "      customize MSVCCompiler\n",
      "        libraries mkl_rt not found in ['C:\\\\Users\\\\Khalil\\\\anaconda3\\\\lib', 'C:\\\\', 'C:\\\\Users\\\\Khalil\\\\anaconda3\\\\libs']\n",
      "        NOT AVAILABLE\n",
      "      \n",
      "      blis_info:\n",
      "        libraries blis not found in ['C:\\\\Users\\\\Khalil\\\\anaconda3\\\\lib', 'C:\\\\', 'C:\\\\Users\\\\Khalil\\\\anaconda3\\\\libs']\n",
      "        NOT AVAILABLE\n",
      "      \n",
      "      openblas_info:\n",
      "        libraries openblas not found in ['C:\\\\Users\\\\Khalil\\\\anaconda3\\\\lib', 'C:\\\\', 'C:\\\\Users\\\\Khalil\\\\anaconda3\\\\libs']\n",
      "      get_default_fcompiler: matching types: '['gnu', 'intelv', 'absoft', 'compaqv', 'intelev', 'gnu95', 'g95', 'intelvem', 'intelem', 'flang']'\n",
      "      customize GnuFCompiler\n",
      "      Could not locate executable g77\n",
      "      Could not locate executable f77\n",
      "      customize IntelVisualFCompiler\n",
      "      Could not locate executable ifort\n",
      "      Could not locate executable ifl\n",
      "      customize AbsoftFCompiler\n",
      "      Could not locate executable f90\n",
      "      customize CompaqVisualFCompiler\n",
      "      Could not locate executable DF\n",
      "      customize IntelItaniumVisualFCompiler\n",
      "      Could not locate executable efl\n",
      "      customize Gnu95FCompiler\n",
      "      Could not locate executable gfortran\n",
      "      Could not locate executable f95\n",
      "      customize G95FCompiler\n",
      "      Could not locate executable g95\n",
      "      customize IntelEM64VisualFCompiler\n",
      "      customize IntelEM64TFCompiler\n",
      "      Could not locate executable efort\n",
      "      Could not locate executable efc\n",
      "      customize PGroupFlangCompiler\n",
      "      Could not locate executable flang\n",
      "      don't know how to compile Fortran code on platform 'nt'\n",
      "        NOT AVAILABLE\n",
      "      \n",
      "      accelerate_info:\n",
      "        NOT AVAILABLE\n",
      "      \n",
      "      atlas_3_10_blas_threads_info:\n",
      "      Setting PTATLAS=ATLAS\n",
      "        libraries tatlas not found in ['C:\\\\Users\\\\Khalil\\\\anaconda3\\\\lib', 'C:\\\\', 'C:\\\\Users\\\\Khalil\\\\anaconda3\\\\libs']\n",
      "        NOT AVAILABLE\n",
      "      \n",
      "      atlas_3_10_blas_info:\n",
      "        libraries satlas not found in ['C:\\\\Users\\\\Khalil\\\\anaconda3\\\\lib', 'C:\\\\', 'C:\\\\Users\\\\Khalil\\\\anaconda3\\\\libs']\n",
      "        NOT AVAILABLE\n",
      "      \n",
      "      atlas_blas_threads_info:\n",
      "      Setting PTATLAS=ATLAS\n",
      "        libraries ptf77blas,ptcblas,atlas not found in ['C:\\\\Users\\\\Khalil\\\\anaconda3\\\\lib', 'C:\\\\', 'C:\\\\Users\\\\Khalil\\\\anaconda3\\\\libs']\n",
      "        NOT AVAILABLE\n",
      "      \n",
      "      atlas_blas_info:\n",
      "        libraries f77blas,cblas,atlas not found in ['C:\\\\Users\\\\Khalil\\\\anaconda3\\\\lib', 'C:\\\\', 'C:\\\\Users\\\\Khalil\\\\anaconda3\\\\libs']\n",
      "        NOT AVAILABLE\n",
      "      \n",
      "      C:\\Users\\Khalil\\AppData\\Local\\Temp\\pip-install-itvtpk7e\\numpy_a9ff31eafd2f4fb1b393b844d2344b60\\numpy\\distutils\\system_info.py:2026: UserWarning:\n",
      "          Optimized (vendor) Blas libraries are not found.\n",
      "          Falls back to netlib Blas library which has worse performance.\n",
      "          A better performance should be easily gained by switching\n",
      "          Blas library.\n",
      "        if self._calc_info(blas):\n",
      "      blas_info:\n",
      "        libraries blas not found in ['C:\\\\Users\\\\Khalil\\\\anaconda3\\\\lib', 'C:\\\\', 'C:\\\\Users\\\\Khalil\\\\anaconda3\\\\libs']\n",
      "        NOT AVAILABLE\n",
      "      \n",
      "      C:\\Users\\Khalil\\AppData\\Local\\Temp\\pip-install-itvtpk7e\\numpy_a9ff31eafd2f4fb1b393b844d2344b60\\numpy\\distutils\\system_info.py:2026: UserWarning:\n",
      "          Blas (http://www.netlib.org/blas/) libraries not found.\n",
      "          Directories to search for the libraries can be specified in the\n",
      "          numpy/distutils/site.cfg file (section [blas]) or by setting\n",
      "          the BLAS environment variable.\n",
      "        if self._calc_info(blas):\n",
      "      blas_src_info:\n",
      "        NOT AVAILABLE\n",
      "      \n",
      "      C:\\Users\\Khalil\\AppData\\Local\\Temp\\pip-install-itvtpk7e\\numpy_a9ff31eafd2f4fb1b393b844d2344b60\\numpy\\distutils\\system_info.py:2026: UserWarning:\n",
      "          Blas (http://www.netlib.org/blas/) sources not found.\n",
      "          Directories to search for the sources can be specified in the\n",
      "          numpy/distutils/site.cfg file (section [blas_src]) or by setting\n",
      "          the BLAS_SRC environment variable.\n",
      "        if self._calc_info(blas):\n",
      "        NOT AVAILABLE\n",
      "      \n",
      "      non-existing path in 'numpy\\\\distutils': 'site.cfg'\n",
      "      lapack_opt_info:\n",
      "      lapack_mkl_info:\n",
      "        libraries mkl_rt not found in ['C:\\\\Users\\\\Khalil\\\\anaconda3\\\\lib', 'C:\\\\', 'C:\\\\Users\\\\Khalil\\\\anaconda3\\\\libs']\n",
      "        NOT AVAILABLE\n",
      "      \n",
      "      openblas_lapack_info:\n",
      "        libraries openblas not found in ['C:\\\\Users\\\\Khalil\\\\anaconda3\\\\lib', 'C:\\\\', 'C:\\\\Users\\\\Khalil\\\\anaconda3\\\\libs']\n",
      "        NOT AVAILABLE\n",
      "      \n",
      "      openblas_clapack_info:\n",
      "        libraries openblas,lapack not found in ['C:\\\\Users\\\\Khalil\\\\anaconda3\\\\lib', 'C:\\\\', 'C:\\\\Users\\\\Khalil\\\\anaconda3\\\\libs']\n",
      "        NOT AVAILABLE\n",
      "      \n",
      "      flame_info:\n",
      "        libraries flame not found in ['C:\\\\Users\\\\Khalil\\\\anaconda3\\\\lib', 'C:\\\\', 'C:\\\\Users\\\\Khalil\\\\anaconda3\\\\libs']\n",
      "        NOT AVAILABLE\n",
      "      \n",
      "      atlas_3_10_threads_info:\n",
      "      Setting PTATLAS=ATLAS\n",
      "        libraries lapack_atlas not found in C:\\Users\\Khalil\\anaconda3\\lib\n",
      "        libraries tatlas,tatlas not found in C:\\Users\\Khalil\\anaconda3\\lib\n",
      "        libraries lapack_atlas not found in C:\\\n",
      "        libraries tatlas,tatlas not found in C:\\\n",
      "        libraries lapack_atlas not found in C:\\Users\\Khalil\\anaconda3\\libs\n",
      "        libraries tatlas,tatlas not found in C:\\Users\\Khalil\\anaconda3\\libs\n",
      "      <class 'numpy.distutils.system_info.atlas_3_10_threads_info'>\n",
      "        NOT AVAILABLE\n",
      "      \n",
      "      atlas_3_10_info:\n",
      "        libraries lapack_atlas not found in C:\\Users\\Khalil\\anaconda3\\lib\n",
      "        libraries satlas,satlas not found in C:\\Users\\Khalil\\anaconda3\\lib\n",
      "        libraries lapack_atlas not found in C:\\\n",
      "        libraries satlas,satlas not found in C:\\\n",
      "        libraries lapack_atlas not found in C:\\Users\\Khalil\\anaconda3\\libs\n",
      "        libraries satlas,satlas not found in C:\\Users\\Khalil\\anaconda3\\libs\n",
      "      <class 'numpy.distutils.system_info.atlas_3_10_info'>\n",
      "        NOT AVAILABLE\n",
      "      \n",
      "      atlas_threads_info:\n",
      "      Setting PTATLAS=ATLAS\n",
      "        libraries lapack_atlas not found in C:\\Users\\Khalil\\anaconda3\\lib\n",
      "        libraries ptf77blas,ptcblas,atlas not found in C:\\Users\\Khalil\\anaconda3\\lib\n",
      "        libraries lapack_atlas not found in C:\\\n",
      "        libraries ptf77blas,ptcblas,atlas not found in C:\\\n",
      "        libraries lapack_atlas not found in C:\\Users\\Khalil\\anaconda3\\libs\n",
      "        libraries ptf77blas,ptcblas,atlas not found in C:\\Users\\Khalil\\anaconda3\\libs\n",
      "      <class 'numpy.distutils.system_info.atlas_threads_info'>\n",
      "        NOT AVAILABLE\n",
      "      \n",
      "      atlas_info:\n",
      "        libraries lapack_atlas not found in C:\\Users\\Khalil\\anaconda3\\lib\n",
      "        libraries f77blas,cblas,atlas not found in C:\\Users\\Khalil\\anaconda3\\lib\n",
      "        libraries lapack_atlas not found in C:\\\n",
      "        libraries f77blas,cblas,atlas not found in C:\\\n",
      "        libraries lapack_atlas not found in C:\\Users\\Khalil\\anaconda3\\libs\n",
      "        libraries f77blas,cblas,atlas not found in C:\\Users\\Khalil\\anaconda3\\libs\n",
      "      <class 'numpy.distutils.system_info.atlas_info'>\n",
      "        NOT AVAILABLE\n",
      "      \n",
      "      lapack_info:\n",
      "        libraries lapack not found in ['C:\\\\Users\\\\Khalil\\\\anaconda3\\\\lib', 'C:\\\\', 'C:\\\\Users\\\\Khalil\\\\anaconda3\\\\libs']\n",
      "        NOT AVAILABLE\n",
      "      \n",
      "      C:\\Users\\Khalil\\AppData\\Local\\Temp\\pip-install-itvtpk7e\\numpy_a9ff31eafd2f4fb1b393b844d2344b60\\numpy\\distutils\\system_info.py:1858: UserWarning:\n",
      "          Lapack (http://www.netlib.org/lapack/) libraries not found.\n",
      "          Directories to search for the libraries can be specified in the\n",
      "          numpy/distutils/site.cfg file (section [lapack]) or by setting\n",
      "          the LAPACK environment variable.\n",
      "        return getattr(self, '_calc_info_{}'.format(name))()\n",
      "      lapack_src_info:\n",
      "        NOT AVAILABLE\n",
      "      \n",
      "      C:\\Users\\Khalil\\AppData\\Local\\Temp\\pip-install-itvtpk7e\\numpy_a9ff31eafd2f4fb1b393b844d2344b60\\numpy\\distutils\\system_info.py:1858: UserWarning:\n",
      "          Lapack (http://www.netlib.org/lapack/) sources not found.\n",
      "          Directories to search for the sources can be specified in the\n",
      "          numpy/distutils/site.cfg file (section [lapack_src]) or by setting\n",
      "          the LAPACK_SRC environment variable.\n",
      "        return getattr(self, '_calc_info_{}'.format(name))()\n",
      "        NOT AVAILABLE\n",
      "      \n",
      "      numpy_linalg_lapack_lite:\n",
      "        FOUND:\n",
      "          language = c\n",
      "          define_macros = [('HAVE_BLAS_ILP64', None), ('BLAS_SYMBOL_SUFFIX', '64_')]\n",
      "      \n",
      "      Warning: attempted relative import with no known parent package\n",
      "      C:\\Users\\Khalil\\AppData\\Local\\Temp\\pip-build-env-51uuarwc\\overlay\\Lib\\site-packages\\setuptools\\_distutils\\dist.py:275: UserWarning: Unknown distribution option: 'define_macros'\n",
      "        warnings.warn(msg)\n",
      "      running bdist_wheel\n",
      "      running build\n",
      "      running config_cc\n",
      "      unifing config_cc, config, build_clib, build_ext, build commands --compiler options\n",
      "      running config_fc\n",
      "      unifing config_fc, config, build_clib, build_ext, build commands --fcompiler options\n",
      "      running build_src\n",
      "      build_src\n",
      "      building py_modules sources\n",
      "      creating build\n",
      "      creating build\\src.win-amd64-3.11\n",
      "      creating build\\src.win-amd64-3.11\\numpy\n",
      "      creating build\\src.win-amd64-3.11\\numpy\\distutils\n",
      "      building library \"npymath\" sources\n",
      "      error: Microsoft Visual C++ 14.0 is required. Get it with \"Build Tools for Visual Studio\": https://visualstudio.microsoft.com/downloads/\n",
      "      [end of output]\n",
      "  \n",
      "  note: This error originates from a subprocess, and is likely not a problem with pip.\n",
      "  ERROR: Failed building wheel for numpy\n",
      "ERROR: Could not build wheels for numpy, which is required to install pyproject.toml-based projects\n"
     ]
    }
   ],
   "source": [
    "!pip install numpy==1.21.0\n"
   ]
  },
  {
   "cell_type": "markdown",
   "metadata": {},
   "source": [
    "#### 4.3 Upgrading a Package\n",
    "To upgrade a package to the latest version:"
   ]
  },
  {
   "cell_type": "code",
   "execution_count": 17,
   "metadata": {},
   "outputs": [
    {
     "name": "stdout",
     "output_type": "stream",
     "text": [
      "Requirement already satisfied: numpy in c:\\users\\khalil\\anaconda3\\lib\\site-packages (1.26.4)\n",
      "Collecting numpy\n",
      "  Downloading numpy-2.2.2-cp311-cp311-win_amd64.whl.metadata (60 kB)\n",
      "     ---------------------------------------- 0.0/60.8 kB ? eta -:--:--\n",
      "     ------ --------------------------------- 10.2/60.8 kB ? eta -:--:--\n",
      "     ------------ ------------------------- 20.5/60.8 kB 320.0 kB/s eta 0:00:01\n",
      "     ------------------------------- ------ 51.2/60.8 kB 372.4 kB/s eta 0:00:01\n",
      "     -------------------------------------- 60.8/60.8 kB 460.0 kB/s eta 0:00:00\n",
      "Downloading numpy-2.2.2-cp311-cp311-win_amd64.whl (12.9 MB)\n",
      "   ---------------------------------------- 0.0/12.9 MB ? eta -:--:--\n",
      "    --------------------------------------- 0.3/12.9 MB 7.9 MB/s eta 0:00:02\n",
      "   -- ------------------------------------- 1.0/12.9 MB 12.2 MB/s eta 0:00:01\n",
      "   ----- ---------------------------------- 1.8/12.9 MB 14.0 MB/s eta 0:00:01\n",
      "   ------- -------------------------------- 2.5/12.9 MB 14.7 MB/s eta 0:00:01\n",
      "   ---------- ----------------------------- 3.3/12.9 MB 15.1 MB/s eta 0:00:01\n",
      "   ------------ --------------------------- 4.0/12.9 MB 14.9 MB/s eta 0:00:01\n",
      "   -------------- ------------------------- 4.6/12.9 MB 14.7 MB/s eta 0:00:01\n",
      "   ---------------- ----------------------- 5.4/12.9 MB 15.6 MB/s eta 0:00:01\n",
      "   ------------------ --------------------- 6.1/12.9 MB 15.1 MB/s eta 0:00:01\n",
      "   --------------------- ------------------ 6.9/12.9 MB 15.2 MB/s eta 0:00:01\n",
      "   ----------------------- ---------------- 7.7/12.9 MB 15.4 MB/s eta 0:00:01\n",
      "   -------------------------- ------------- 8.5/12.9 MB 15.5 MB/s eta 0:00:01\n",
      "   ---------------------------- ----------- 9.3/12.9 MB 16.0 MB/s eta 0:00:01\n",
      "   ------------------------------- -------- 10.0/12.9 MB 16.0 MB/s eta 0:00:01\n",
      "   -------------------------------- ------- 10.6/12.9 MB 16.4 MB/s eta 0:00:01\n",
      "   ----------------------------------- ---- 11.6/12.9 MB 16.4 MB/s eta 0:00:01\n",
      "   -------------------------------------- - 12.6/12.9 MB 16.0 MB/s eta 0:00:01\n",
      "   ---------------------------------------  12.9/12.9 MB 15.6 MB/s eta 0:00:01\n",
      "   ---------------------------------------  12.9/12.9 MB 15.6 MB/s eta 0:00:01\n",
      "   ---------------------------------------- 12.9/12.9 MB 13.6 MB/s eta 0:00:00\n",
      "Installing collected packages: numpy\n",
      "  Attempting uninstall: numpy\n",
      "    Found existing installation: numpy 1.26.4\n",
      "    Uninstalling numpy-1.26.4:\n",
      "      Successfully uninstalled numpy-1.26.4\n",
      "Successfully installed numpy-2.2.2\n"
     ]
    },
    {
     "name": "stderr",
     "output_type": "stream",
     "text": [
      "ERROR: pip's dependency resolver does not currently take into account all the packages that are installed. This behaviour is the source of the following dependency conflicts.\n",
      "gensim 4.3.0 requires FuzzyTM>=0.4.0, which is not installed.\n",
      "arcgis 2.4.0 requires numpy<2,>=1.21.6, but you have numpy 2.2.2 which is incompatible.\n",
      "astropy 5.3.4 requires numpy<2,>=1.21, but you have numpy 2.2.2 which is incompatible.\n",
      "basemap 1.4.1 requires numpy<1.27,>=1.21; python_version >= \"3.8\", but you have numpy 2.2.2 which is incompatible.\n",
      "contourpy 1.2.0 requires numpy<2.0,>=1.20, but you have numpy 2.2.2 which is incompatible.\n",
      "matplotlib 3.8.0 requires numpy<2,>=1.21, but you have numpy 2.2.2 which is incompatible.\n",
      "numba 0.59.0 requires numpy<1.27,>=1.22, but you have numpy 2.2.2 which is incompatible.\n",
      "pandas 2.1.4 requires numpy<2,>=1.23.2; python_version == \"3.11\", but you have numpy 2.2.2 which is incompatible.\n",
      "pywavelets 1.5.0 requires numpy<2.0,>=1.22.4, but you have numpy 2.2.2 which is incompatible.\n",
      "scipy 1.11.4 requires numpy<1.28.0,>=1.21.6, but you have numpy 2.2.2 which is incompatible.\n",
      "sentinelhub 3.10.2 requires numpy<2, but you have numpy 2.2.2 which is incompatible.\n",
      "streamlit 1.30.0 requires numpy<2,>=1.19.3, but you have numpy 2.2.2 which is incompatible.\n",
      "tensorflow-intel 2.18.0 requires numpy<2.1.0,>=1.26.0, but you have numpy 2.2.2 which is incompatible.\n"
     ]
    }
   ],
   "source": [
    "!pip install --upgrade numpy\n"
   ]
  },
  {
   "cell_type": "markdown",
   "metadata": {},
   "source": [
    "#### 4.4 Uninstalling a Package\n",
    "To remove a package:"
   ]
  },
  {
   "cell_type": "code",
   "execution_count": 18,
   "metadata": {},
   "outputs": [
    {
     "name": "stdout",
     "output_type": "stream",
     "text": [
      "^C\n"
     ]
    }
   ],
   "source": [
    "!pip uninstall numpy\n"
   ]
  }
 ],
 "metadata": {
  "kernelspec": {
   "display_name": "base",
   "language": "python",
   "name": "python3"
  },
  "language_info": {
   "codemirror_mode": {
    "name": "ipython",
    "version": 3
   },
   "file_extension": ".py",
   "mimetype": "text/x-python",
   "name": "python",
   "nbconvert_exporter": "python",
   "pygments_lexer": "ipython3",
   "version": "3.11.7"
  }
 },
 "nbformat": 4,
 "nbformat_minor": 2
}
