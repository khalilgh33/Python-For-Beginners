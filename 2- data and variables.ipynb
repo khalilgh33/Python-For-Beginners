{
 "cells": [
  {
   "cell_type": "markdown",
   "metadata": {},
   "source": [
    "Variables and Data typle\n",
    "\n",
    "1.In Python, variables store data, and each variable has a data type that defines what kind of data it holds. Below is a list of common data types in Python with examples:\n",
    "\n"
   ]
  },
  {
   "cell_type": "markdown",
   "metadata": {},
   "source": [
    "1️⃣ Integer (int) – Whole numbers ✅ Examples: -5, 0, 100, 2500\n",
    "\n"
   ]
  },
  {
   "cell_type": "code",
   "execution_count": 3,
   "metadata": {},
   "outputs": [
    {
     "name": "stdout",
     "output_type": "stream",
     "text": [
      "<class 'int'>\n"
     ]
    }
   ],
   "source": [
    "X = 10 # An integer\n",
    "print(type(X)) # Output: <class 'int'>\n"
   ]
  },
  {
   "cell_type": "markdown",
   "metadata": {},
   "source": [
    "2️⃣ Floating-Point (float) – Decimal numbers ✅ Examples: 3.14, -0.5, 2.0, 100.25\n",
    "\n",
    "\n"
   ]
  },
  {
   "cell_type": "code",
   "execution_count": 5,
   "metadata": {},
   "outputs": [
    {
     "name": "stdout",
     "output_type": "stream",
     "text": [
      "<class 'float'>\n"
     ]
    }
   ],
   "source": [
    "pi = 3.14 # A float\n",
    "print(type(pi)) # Output: <class float >"
   ]
  },
  {
   "cell_type": "markdown",
   "metadata": {},
   "source": [
    "3️⃣ String (str) – Text data\n",
    "✅ Examples: \"Hello\", 'Python', \"123\" (as a string)\n",
    "\n"
   ]
  },
  {
   "cell_type": "code",
   "execution_count": 6,
   "metadata": {},
   "outputs": [
    {
     "name": "stdout",
     "output_type": "stream",
     "text": [
      "<class 'str'>\n"
     ]
    }
   ],
   "source": [
    "name = \"khalil\" \n",
    "print(type(name)) # Output: <<class : str>"
   ]
  },
  {
   "cell_type": "markdown",
   "metadata": {},
   "source": [
    "4️⃣ Boolean (bool) – True or False val vues  ✅ Examples: True, False\n",
    "\n"
   ]
  },
  {
   "cell_type": "code",
   "execution_count": 7,
   "metadata": {},
   "outputs": [
    {
     "name": "stdout",
     "output_type": "stream",
     "text": [
      "<class 'bool'>\n"
     ]
    }
   ],
   "source": [
    "is_python_fun = True # A boolean Value\n",
    "print(type(is_python_fun)) # Output: <class bool>"
   ]
  },
  {
   "cell_type": "markdown",
   "metadata": {},
   "source": [
    "5️⃣ List (list) – Ordered, mutable collection  ✅ Examples: [1, 2, 3], [\"apple\", \"banana\", \"cherry\"]\n",
    "\n"
   ]
  },
  {
   "cell_type": "code",
   "execution_count": 8,
   "metadata": {},
   "outputs": [
    {
     "name": "stdout",
     "output_type": "stream",
     "text": [
      "<class 'list'>\n"
     ]
    }
   ],
   "source": [
    "number = [1,2,3,4,5] # A list \n",
    "print(type(number)) # Output: <Class : 'list>"
   ]
  },
  {
   "cell_type": "markdown",
   "metadata": {},
   "source": [
    "6️⃣ Tuple (tuple) – Ordered, immutable collection ✅ Examples: (1, 2, 3), (\"red\", \"green\", \"blue\")\n",
    "\n"
   ]
  },
  {
   "cell_type": "code",
   "execution_count": 9,
   "metadata": {},
   "outputs": [
    {
     "name": "stdout",
     "output_type": "stream",
     "text": [
      "<class 'tuple'>\n"
     ]
    }
   ],
   "source": [
    "coordinate = (10,20) # A tuple\n",
    "print(type(coordinate)) # Output: <class : tuple>"
   ]
  },
  {
   "cell_type": "markdown",
   "metadata": {},
   "source": [
    "7️⃣ Set (set) – Unordered, unique collection ✅ Examples: {1, 2, 3}, {\"apple\", \"banana\", \"cherry\"}\n",
    "\n",
    "\n",
    " \n"
   ]
  },
  {
   "cell_type": "code",
   "execution_count": 10,
   "metadata": {},
   "outputs": [
    {
     "name": "stdout",
     "output_type": "stream",
     "text": [
      "<class 'set'>\n"
     ]
    }
   ],
   "source": [
    "uniqe_number = {1,2,3,4,5} #  A set\n",
    "print(type(uniqe_number))# Output: <class set>"
   ]
  },
  {
   "cell_type": "markdown",
   "metadata": {},
   "source": [
    "8️⃣ Dictionary (dict) – Key-value pairs ✅ Examples: {\"brand\": \"Toyota\", \"year\": 2022}\n",
    "\n",
    "\n"
   ]
  },
  {
   "cell_type": "code",
   "execution_count": 11,
   "metadata": {},
   "outputs": [
    {
     "name": "stdout",
     "output_type": "stream",
     "text": [
      "<class 'dict'>\n"
     ]
    }
   ],
   "source": [
    "student = {\"name\": \"khalil\", \"age\":32} #  a dictionary\n",
    "print(type(student)) # output: <class dict>"
   ]
  },
  {
   "cell_type": "markdown",
   "metadata": {},
   "source": [
    "9️⃣ NoneType (None) – Represents absence of value ✅ Example: None\n",
    "\n",
    "\n"
   ]
  },
  {
   "cell_type": "code",
   "execution_count": 13,
   "metadata": {},
   "outputs": [
    {
     "name": "stdout",
     "output_type": "stream",
     "text": [
      "<class 'NoneType'>\n"
     ]
    }
   ],
   "source": [
    "x = None # A nontype variable\n",
    "print(type(x)) # Output : <class nonetype>"
   ]
  },
  {
   "cell_type": "markdown",
   "metadata": {},
   "source": [
    "🔥 Bonus: Type Conversion\n",
    "\n",
    "1.You can change the data type using type conversion functions:\n",
    "\n"
   ]
  },
  {
   "cell_type": "code",
   "execution_count": 14,
   "metadata": {},
   "outputs": [
    {
     "name": "stdout",
     "output_type": "stream",
     "text": [
      "<class 'int'>\n"
     ]
    }
   ],
   "source": [
    "X = \"100\" # string\n",
    "y = int(X) # convert to intger\n",
    "print(type(y)) # output: <class int>"
   ]
  },
  {
   "cell_type": "markdown",
   "metadata": {},
   "source": [
    "# Python Variables and Data Types\n",
    "\n",
    "| Data Type  | Description | Example |\n",
    "|------------|------------|---------|\n",
    "| `int` (Integer) | Whole numbers (positive or negative) | `10, -5, 100` |\n",
    "| `float` (Floating-Point) | Decimal numbers | `3.14, -0.5, 2.0` |\n",
    "| `str` (String) | Text values enclosed in quotes | `\"Hello\", 'Python'` |\n",
    "| `bool` (Boolean) | True or False values | `True, False` |\n",
    "| `list` (List) | Ordered, mutable collection | `[1, 2, 3]`, `[\"apple\", \"banana\"]` |\n",
    "| `tuple` (Tuple) | Ordered, immutable collection | `(1, 2, 3)`, `(\"red\", \"blue\")` |\n",
    "| `set` (Set) | Unordered collection of unique values | `{1, 2, 3}`, `{\"apple\", \"banana\"}` |\n",
    "| `dict` (Dictionary) | Key-value pairs | `{\"name\": \"Khalil\", \"age\": 30}` |\n",
    "| `NoneType` (None) | Represents absence of a value | `None` |"
   ]
  },
  {
   "cell_type": "code",
   "execution_count": 23,
   "metadata": {},
   "outputs": [
    {
     "name": "stdout",
     "output_type": "stream",
     "text": [
      "There once wase a man named Hassan.\n",
      "he was 50 years old.\n",
      "he really like th name Hassan.\n",
      "But didnt like being 50.\n"
     ]
    }
   ],
   "source": [
    "character_name = \"Hassan\" # you can change name and recive diffrent output\n",
    "character_age = \"50\" # you can change age and recive diffrent output\n",
    "print(\"There once wase a man named\", character_name + \".\") # + can add string variable with string\n",
    "print(\"he was\", character_age,\"years old.\")\n",
    "print(\"he really like th name\" , character_name+\".\")\n",
    "print(\"But didnt like being\", character_age + \".\")"
   ]
  },
  {
   "cell_type": "code",
   "execution_count": null,
   "metadata": {},
   "outputs": [],
   "source": []
  }
 ],
 "metadata": {
  "kernelspec": {
   "display_name": "base",
   "language": "python",
   "name": "python3"
  },
  "language_info": {
   "codemirror_mode": {
    "name": "ipython",
    "version": 3
   },
   "file_extension": ".py",
   "mimetype": "text/x-python",
   "name": "python",
   "nbconvert_exporter": "python",
   "pygments_lexer": "ipython3",
   "version": "3.11.7"
  }
 },
 "nbformat": 4,
 "nbformat_minor": 2
}
