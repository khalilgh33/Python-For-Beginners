{
 "cells": [
  {
   "cell_type": "markdown",
   "metadata": {},
   "source": [
    "📌 Python List Tutorial for Beginners\\\n",
    "A list is a mutable, ordered collection that can store multiple items in Python. Lists allow you to store a \\equence of values, including different data types.\\\n",
    "\n",
    "✅ What You Will Learn\\\n",
    "1. Creating Lists\n",
    "2. Accessing Elements\n",
    "3. Modifying Lists\n",
    "4. List Methods\n",
    "5. Looping Through Lists\n",
    "6. List Slicing\n",
    "7. List Comprehension\n",
    "8. Sorting & Reversing\n",
    "9. Copying Lists\n",
    "10. Working with Nested Lists"
   ]
  },
  {
   "cell_type": "markdown",
   "metadata": {},
   "source": [
    "🔹 1. Creating a List\\\n",
    "Lists are defined using square brackets [] and can contain any data type."
   ]
  },
  {
   "cell_type": "code",
   "execution_count": 3,
   "metadata": {},
   "outputs": [
    {
     "name": "stdout",
     "output_type": "stream",
     "text": [
      "[1, 2, 3, 4, 5]\n",
      "['apples', 'banana', 'Cherry']\n",
      "[10, 'hello', 3.5, True]\n",
      "[]\n"
     ]
    }
   ],
   "source": [
    "# Creating lists\n",
    "numbers = [1,2,3,4,5] # List of integers\n",
    "fruits = [\"apples\", \"banana\", \"Cherry\"] # List of fruits\n",
    "mixed = [10,\"hello\", 3.5, True] # Mixed List\n",
    "empty_list =[]\n",
    "\n",
    "print(numbers)\n",
    "print(fruits)\n",
    "print(mixed)\n",
    "print(empty_list)"
   ]
  },
  {
   "cell_type": "markdown",
   "metadata": {},
   "source": [
    "🔹 2. Accessing Elements in a List\\\n",
    "You can access list items using indexing (0-based indexing)."
   ]
  },
  {
   "cell_type": "code",
   "execution_count": 6,
   "metadata": {},
   "outputs": [
    {
     "name": "stdout",
     "output_type": "stream",
     "text": [
      "['apples', 'banana']\n",
      "carrot\n",
      "banana\n",
      "cherry\n"
     ]
    }
   ],
   "source": [
    "fruits = [\"apples\", \"banana\", \"cherry\", \"carrot\", \"peach\"]\n",
    "# index=====0==========1=========2=========3=========4=====\n",
    "print(fruits[0:2]) # first element  = apples and banana\n",
    "print(fruits[-2])  # seconf from the last element\n",
    "print(fruits[1]) # second element = banana\n",
    "print(fruits[2]) # last elements = cherry\n",
    "\n",
    "#Negative Indexing:\n",
    "#-1 refers to the last element, -2 refers to the second last, and so on."
   ]
  },
  {
   "cell_type": "markdown",
   "metadata": {},
   "source": [
    "🔹 3. Modifying Lists\\\n",
    "Lists are mutable, meaning you can change their elements."
   ]
  },
  {
   "cell_type": "code",
   "execution_count": 9,
   "metadata": {},
   "outputs": [
    {
     "name": "stdout",
     "output_type": "stream",
     "text": [
      "['apples', 'orange', 'cherry']\n"
     ]
    }
   ],
   "source": [
    "fruits = [\"apples\", \"banana\", \"cherry\"]\n",
    "fruits[1] = \"orange\" # replace \"banana\" with orange\n",
    "print(fruits) # Outputs: [\"apples\", \"orange\", \"cherry\"]"
   ]
  },
  {
   "cell_type": "markdown",
   "metadata": {},
   "source": [
    "🔹 4. List Methods\\\n",
    "Python provides several built-in list methods:"
   ]
  },
  {
   "cell_type": "code",
   "execution_count": 10,
   "metadata": {},
   "outputs": [
    {
     "name": "stdout",
     "output_type": "stream",
     "text": [
      "1\n",
      "[1, 10, 3, 4, 5, 6]\n"
     ]
    }
   ],
   "source": [
    "numbers = [1,2,3,4,5,6]\n",
    "numbers.append(4) # adds 4 at the end\n",
    "numbers.insert(1,10) # insert 10 at index 1\n",
    "numbers.remove(2) # removes first occurrence of 2\n",
    "numbers.pop() #remove last element\n",
    "print(numbers.count(5)) #count number of 5 element in the list\n",
    "print(numbers)"
   ]
  },
  {
   "cell_type": "markdown",
   "metadata": {},
   "source": [
    "# 📌 Common List Methods in Python\n",
    "\n",
    "| **Method**       | **Description**                                 | **Example**             |\n",
    "|------------------|---------------------------------------------|-------------------------|\n",
    "| `append(x)`      | Adds `x` at the end of the list             | `list.append(5)`        |\n",
    "| `insert(i, x)`   | Inserts `x` at index `i`                   | `list.insert(2, 10)`    |\n",
    "| `remove(x)`      | Removes first occurrence of `x`            | `list.remove(3)`        |\n",
    "| `pop(i)`         | Removes element at index `i` (or last if `i` is not given) | `list.pop()`            |\n",
    "| `clear()`        | Removes all elements from the list         | `list.clear()`          |\n",
    "| `count(x)`       | Counts occurrences of `x` in the list      | `list.count(2)`         |\n",
    "| `sort()`         | Sorts the list in ascending order          | `list.sort()`           |\n",
    "| `sort(reverse=True)` | Sorts the list in descending order     | `list.sort(reverse=True)` |\n",
    "| `reverse()`      | Reverses the order of the list             | `list.reverse()`        |\n",
    "| `copy()`         | Returns a copy of the list                 | `new_list = list.copy()` |\n",
    "| `index(x)`       | Returns the index of the first occurrence of `x` | `list.index(3)` |"
   ]
  },
  {
   "cell_type": "markdown",
   "metadata": {},
   "source": [
    "🔹 5. Looping Through a List"
   ]
  },
  {
   "cell_type": "code",
   "execution_count": 18,
   "metadata": {},
   "outputs": [
    {
     "name": "stdout",
     "output_type": "stream",
     "text": [
      "apples\n",
      "banana\n",
      "cherry\n"
     ]
    }
   ],
   "source": [
    "fruits = [\"apples\", \"banana\", \"cherry\"]\n",
    "for fruit in fruits:\n",
    "    print(fruit)"
   ]
  },
  {
   "cell_type": "markdown",
   "metadata": {},
   "source": [
    "✅ Using while Loop"
   ]
  },
  {
   "cell_type": "code",
   "execution_count": 19,
   "metadata": {},
   "outputs": [
    {
     "name": "stdout",
     "output_type": "stream",
     "text": [
      "apples\n",
      "banana\n",
      "cherry\n"
     ]
    }
   ],
   "source": [
    "i = 0\n",
    "while i < len(fruits):\n",
    "    print(fruits[i])\n",
    "    i+=1"
   ]
  },
  {
   "cell_type": "markdown",
   "metadata": {},
   "source": [
    "🔹 6. List Slicing\\\n",
    "Slicing allows extracting a portion of a list.\n"
   ]
  },
  {
   "cell_type": "code",
   "execution_count": 21,
   "metadata": {},
   "outputs": [
    {
     "name": "stdout",
     "output_type": "stream",
     "text": [
      "[20, 30, 40]\n",
      "[10, 20, 30]\n",
      "[30, 40, 50]\n",
      "[30, 40, 50]\n"
     ]
    }
   ],
   "source": [
    "numbers = [10,20,30,40,50]\n",
    "print(numbers[1:4]) # Output:[20,30,40]\n",
    "print(numbers[:3]) # Output: [10, 20, 30] (first 3 elements)\n",
    "print(numbers[2:]) # Output: [30, 40, 50] (from index 2 onward)\n",
    "print(numbers[-3:]) # Output: [30, 40, 50] (last 3 elements)\n"
   ]
  },
  {
   "cell_type": "markdown",
   "metadata": {},
   "source": [
    "🔹 7. List Comprehension (Advanced)\\\n",
    "List comprehension is a concise way to create lists in Python. Instead of using loops or map() functions, list comprehension provides a single-line solution to generate lists.\n",
    "1. new_list = [expression for item in iterable if condition]\n",
    "2. expression → The operation or value to be stored in the list.\n",
    "3. item → Variable that represents each element in the iterable.\n",
    "4. iterable → Any iterable (list, range, string, etc.).\n",
    "5. condition (optional) → A filter that only includes elements that meet the condition.\n"
   ]
  },
  {
   "cell_type": "markdown",
   "metadata": {},
   "source": [
    "✅ Example 1: Creating a List with a Loop (Old Method)"
   ]
  },
  {
   "cell_type": "code",
   "execution_count": 24,
   "metadata": {},
   "outputs": [
    {
     "name": "stdout",
     "output_type": "stream",
     "text": [
      "[0, 2, 4, 6, 8]\n"
     ]
    }
   ],
   "source": [
    "numbers = []\n",
    "for x in range(10):\n",
    "    if x % 2 == 0:\n",
    "        numbers.append(x)\n",
    "\n",
    "print(numbers) # Output: [0,2,4,6,8]"
   ]
  },
  {
   "cell_type": "markdown",
   "metadata": {},
   "source": [
    "✅ Example 2: Creating a List with List Comprehension (Better Method)\n",
    "\n"
   ]
  },
  {
   "cell_type": "code",
   "execution_count": 25,
   "metadata": {},
   "outputs": [
    {
     "name": "stdout",
     "output_type": "stream",
     "text": [
      "[0, 2, 4, 6, 8]\n"
     ]
    }
   ],
   "source": [
    "numbers = [x for x in range(10) if x % 2 ==0]\n",
    "print(numbers)"
   ]
  },
  {
   "cell_type": "code",
   "execution_count": 26,
   "metadata": {},
   "outputs": [
    {
     "name": "stdout",
     "output_type": "stream",
     "text": [
      "[1, 4, 9, 16, 25]\n"
     ]
    }
   ],
   "source": [
    "squares = [x ** 2 for x in range(1,6)]\n",
    "print(squares)\n",
    "\n",
    "\"\"\"\n",
    "Explanation:\n",
    "x ** 2 → Squares each number.\n",
    "\"\"\"\n"
   ]
  },
  {
   "cell_type": "markdown",
   "metadata": {},
   "source": [
    "✅ Example 4: Convert Strings to Uppercase\n"
   ]
  },
  {
   "cell_type": "code",
   "execution_count": 28,
   "metadata": {},
   "outputs": [
    {
     "name": "stdout",
     "output_type": "stream",
     "text": [
      "['APPLE', 'BANANA', 'CHERRY']\n"
     ]
    }
   ],
   "source": [
    "words = [\"apple\", \"banana\", \"cherry\"]\n",
    "uppercase_words= [word.upper() for word in words]\n",
    "print(uppercase_words)"
   ]
  },
  {
   "cell_type": "code",
   "execution_count": 29,
   "metadata": {},
   "outputs": [
    {
     "name": "stdout",
     "output_type": "stream",
     "text": [
      "[2, 4, 6, 8]\n"
     ]
    }
   ],
   "source": [
    "number = [-10,-5,0,5,10]\n",
    "positive_number=[ x for x in numbers if x > 0]\n",
    "print(positive_number)"
   ]
  },
  {
   "cell_type": "markdown",
   "metadata": {},
   "source": [
    "✅ Example 6: Extracting Vowels from a String"
   ]
  },
  {
   "cell_type": "code",
   "execution_count": 30,
   "metadata": {},
   "outputs": [
    {
     "name": "stdout",
     "output_type": "stream",
     "text": [
      "['e', 'o', 'o']\n"
     ]
    }
   ],
   "source": [
    "sentence = \"Hello world\"\n",
    "vowels = [char for char in sentence if char.lower() in \"aeiou\"]\n",
    "print(vowels)"
   ]
  },
  {
   "cell_type": "markdown",
   "metadata": {},
   "source": [
    "✅ Example 7: Using if-else in List Comprehension\n"
   ]
  },
  {
   "cell_type": "code",
   "execution_count": 39,
   "metadata": {},
   "outputs": [
    {
     "name": "stdout",
     "output_type": "stream",
     "text": [
      "[0, 'Odd', 2, 'Odd', 4, 'Odd', 6, 'Odd', 8, 'Odd']\n"
     ]
    }
   ],
   "source": [
    "numbers = [x if x % 2 ==0 else \"Odd\" for x in range(10)]\n",
    "print(numbers) # Output: [0, 'Odd', 2, 'Odd', 4, 'Odd', 6, 'Odd', 8, 'Odd']\n",
    "\n",
    "\n",
    "'''\n",
    "Explanation:\n",
    "If x is even, it stays the same.\n",
    "If x is odd, it is replaced with \"Odd\".\n",
    "'''\n",
    "\n"
   ]
  },
  {
   "cell_type": "markdown",
   "metadata": {},
   "source": [
    "✅ Example 8: Nested List Comprehension (Advanced)\n"
   ]
  },
  {
   "cell_type": "code",
   "execution_count": 42,
   "metadata": {},
   "outputs": [
    {
     "name": "stdout",
     "output_type": "stream",
     "text": [
      "[[0, 1, 2], [0, 1, 2], [0, 1, 2]]\n"
     ]
    }
   ],
   "source": [
    "matrix = [[j for j in range(3)] for i in range(3)]\n",
    "print(matrix) # Output: [[0, 1, 2], [0, 1, 2], [0, 1, 2]]\n",
    "'''\n",
    "Explanation:\n",
    "\n",
    "Creates a 3x3 matrix.\n",
    "The inner list ([j for j in range(3)]) runs 3 times.\n",
    "'''"
   ]
  },
  {
   "cell_type": "markdown",
   "metadata": {},
   "source": [
    "# 📌 Summary of List Comprehension in Python\n",
    "\n",
    "| **Concept**                  | **Example**                                         | **Output**                       |\n",
    "|------------------------------|-----------------------------------------------------|----------------------------------|\n",
    "| **Basic List Comprehension** | `[x for x in range(5)]`                            | `[0, 1, 2, 3, 4]`               |\n",
    "| **With Condition (`if`)**    | `[x for x in range(10) if x % 2 == 0]`             | `[0, 2, 4, 6, 8]`               |\n",
    "| **With Modification (`if-else`)** | `[x if x % 2 == 0 else \"Odd\" for x in range(5)]` | `[0, 'Odd', 2, 'Odd', 4]`      |\n",
    "| **Transform Elements**       | `[word.upper() for word in [\"apple\", \"banana\"]]`   | `['APPLE', 'BANANA']`           |\n",
    "| **Nested List**              | `[[j for j in range(3)] for i in range(3)]`        | `[[0, 1, 2], [0, 1, 2], [0, 1, 2]]` |\n",
    "\n",
    "---\n",
    "\n"
   ]
  },
  {
   "cell_type": "markdown",
   "metadata": {},
   "source": [
    "🔹 8. Sorting & Reversing a List\n"
   ]
  },
  {
   "cell_type": "code",
   "execution_count": 45,
   "metadata": {},
   "outputs": [
    {
     "name": "stdout",
     "output_type": "stream",
     "text": [
      "[1, 2, 4, 5, 9]\n",
      "[9, 5, 4, 2, 1]\n",
      "[9, 5, 4, 2, 1]\n"
     ]
    }
   ],
   "source": [
    "numbers = [4,2,9,1,5]\n",
    "numbers.sort() # Ascending order\n",
    "print(numbers) # Outout: [1,2,4,5,9]\n",
    "numbers.reverse() # reverse order\n",
    "print(numbers) # Outputs: (9,5,4,2,1)\n",
    "\n",
    "#Alternative Sorting (Descending Order)\n",
    "numbers.sort(reverse=True)\n",
    "print(numbers) # # Output: [9, 5, 4, 2, 1]"
   ]
  },
  {
   "cell_type": "markdown",
   "metadata": {},
   "source": [
    "🔹 9. Copying Lists\n"
   ]
  },
  {
   "cell_type": "code",
   "execution_count": 48,
   "metadata": {},
   "outputs": [],
   "source": [
    "list1 = [1,2,3]\n",
    "list2 = list1 # This links both lists (changing one affects the other)\n",
    "\n",
    "#Correct Way (Using .copy())\n",
    "List2 = list1.copy()\n",
    "\n",
    "\n",
    "#Using list()\n",
    "List2 = list1[:]"
   ]
  },
  {
   "cell_type": "markdown",
   "metadata": {},
   "source": [
    "🔹 10. Nested Lists (Lists inside Lists)\\\n",
    "A nested list is a list that contains other lists.\n",
    "\n",
    "\n"
   ]
  },
  {
   "cell_type": "code",
   "execution_count": 49,
   "metadata": {},
   "outputs": [
    {
     "name": "stdout",
     "output_type": "stream",
     "text": [
      "2\n"
     ]
    }
   ],
   "source": [
    "matrix = [[1,2,3],\n",
    "          [4,5,6],\n",
    "          [7,8,9]]\n",
    "\n",
    "print(matrix[0][1]) # Output: 2(row1 , column 2)"
   ]
  }
 ],
 "metadata": {
  "kernelspec": {
   "display_name": "base",
   "language": "python",
   "name": "python3"
  },
  "language_info": {
   "codemirror_mode": {
    "name": "ipython",
    "version": 3
   },
   "file_extension": ".py",
   "mimetype": "text/x-python",
   "name": "python",
   "nbconvert_exporter": "python",
   "pygments_lexer": "ipython3",
   "version": "3.11.7"
  }
 },
 "nbformat": 4,
 "nbformat_minor": 2
}
