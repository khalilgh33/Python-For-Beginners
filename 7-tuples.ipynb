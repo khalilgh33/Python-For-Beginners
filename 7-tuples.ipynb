{
 "cells": [
  {
   "cell_type": "markdown",
   "metadata": {},
   "source": [
    "📌 Python Tuple Tutorial for Beginners\n",
    "A tuple in Python is a collection of ordered, immutable elements. It is similar to a list, but unlike lists, tuples cannot be modified (they are immutable). Tuples are faster than lists and are often used to store fixed data.\\\n",
    "✅ What You Will Learn\n",
    "1. Creating Tuples\n",
    "2. Accessing Tuple Elements\n",
    "3. Tuple Operations\n",
    "4. Tuple Methods\n",
    "5. Looping Through Tuples\n",
    "6. Tuple Slicing\n",
    "7. Unpacking Tuples\n",
    "8. Nested Tuples\n",
    "9. Tuple vs List\n",
    "10. Tuple Use Cases"
   ]
  },
  {
   "cell_type": "markdown",
   "metadata": {},
   "source": [
    "🔹 1. Creating a Tuple\\\n",
    "Tuples are defined using parentheses (), and they can contain multiple data types."
   ]
  },
  {
   "cell_type": "code",
   "execution_count": 3,
   "metadata": {},
   "outputs": [
    {
     "name": "stdout",
     "output_type": "stream",
     "text": [
      "(1, 2, 3, 4, 5)\n",
      "('apples', 'banana', 'cherry')\n",
      "(10, 'hello', 3.5, True)\n",
      "(5,)\n",
      "()\n"
     ]
    }
   ],
   "source": [
    "numbers = (1,2,3,4,5) #Tuples pf integers\n",
    "fruits = (\"apples\", \"banana\", \"cherry\") #tuples of dtrings\n",
    "mixed = (10, \"hello\", 3.5, True) #mixed tuple\n",
    "single_elements = (5,) # single-element tple (comma required)\n",
    "empty_tuple = () # empty tuple\n",
    "\n",
    "print(numbers)\n",
    "print(fruits)\n",
    "print(mixed)\n",
    "print(single_elements)\n",
    "print(empty_tuple)"
   ]
  },
  {
   "cell_type": "markdown",
   "metadata": {},
   "source": [
    "🔹 2. Accessing Tuple Elements\\\n",
    "You can access elements using indexing (0-based indexing)."
   ]
  },
  {
   "cell_type": "code",
   "execution_count": 7,
   "metadata": {},
   "outputs": [
    {
     "name": "stdout",
     "output_type": "stream",
     "text": [
      "apples\n",
      "banana\n",
      "kivy\n"
     ]
    },
    {
     "data": {
      "text/plain": [
       "'\\n Negative Indexing:\\n\\n(-1 refers to the last element, -2 refers to the second last, and so on.)\\n\\n'"
      ]
     },
     "execution_count": 7,
     "metadata": {},
     "output_type": "execute_result"
    }
   ],
   "source": [
    "fruits = (\"apples\", \"banana\", \"cherry\", \"kivy\")\n",
    "print(fruits[0]) # First element → apple\n",
    "print(fruits[1]) # Second element → banana\n",
    "print(fruits[-1]) # Last element → cherry\n",
    "\n",
    "\n",
    "'''\n",
    " Negative Indexing:\n",
    "\n",
    "-1 refers to the last element, -2 refers to the second last, and so on.\n",
    "\n",
    "'''"
   ]
  },
  {
   "cell_type": "markdown",
   "metadata": {},
   "source": [
    "🔹 3. Tuple Operations\\\n",
    "Although tuples cannot be modified, you can perform concatenation and repetition.\n",
    "\n"
   ]
  },
  {
   "cell_type": "code",
   "execution_count": 12,
   "metadata": {},
   "outputs": [
    {
     "name": "stdout",
     "output_type": "stream",
     "text": [
      "(1, 2, 3, 4, 5, 6)\n",
      "(1, 2, 3, 1, 2, 3)\n"
     ]
    }
   ],
   "source": [
    "tuple1 = (1,2,3)\n",
    "tuple2 = (4,5,6)\n",
    "\n",
    "# concatenation\n",
    "new_tuple = tuple1 + tuple2\n",
    "print(new_tuple) # Output: (1,2,3,4,5,6)\n",
    "\n",
    "#repetition\n",
    "\n",
    "repeated_tuple = tuple1 * 2\n",
    "print(repeated_tuple) # Output: (1, 2, 3, 1, 2, 3)"
   ]
  },
  {
   "cell_type": "markdown",
   "metadata": {},
   "source": [
    "🔹 4. Tuple Methods\\\n",
    "Tuples have fewer methods than lists because they are immutable."
   ]
  },
  {
   "cell_type": "code",
   "execution_count": 14,
   "metadata": {},
   "outputs": [
    {
     "name": "stdout",
     "output_type": "stream",
     "text": [
      "7\n",
      "2\n",
      "2\n"
     ]
    }
   ],
   "source": [
    "numbers = (1,2,3,4,3,2,1)\n",
    "\n",
    "print(len(numbers)) # length tuple\n",
    "print(numbers.count(2)) # count occurrences of 2\n",
    "print(numbers.index(3)) # Index of first occurrence of 2\n"
   ]
  },
  {
   "cell_type": "markdown",
   "metadata": {},
   "source": [
    "🔹 5. Looping Through Tuples\\\n",
    "✅ Using for Loop"
   ]
  },
  {
   "cell_type": "code",
   "execution_count": 16,
   "metadata": {},
   "outputs": [
    {
     "name": "stdout",
     "output_type": "stream",
     "text": [
      "apple\n",
      "banana\n",
      "cherry\n"
     ]
    }
   ],
   "source": [
    "fruits = (\"apple\", \"banana\", \"cherry\")\n",
    "for fruit in fruits:\n",
    "    print(fruit)"
   ]
  },
  {
   "cell_type": "markdown",
   "metadata": {},
   "source": [
    "✅ Using while Loop"
   ]
  },
  {
   "cell_type": "code",
   "execution_count": 18,
   "metadata": {},
   "outputs": [
    {
     "name": "stdout",
     "output_type": "stream",
     "text": [
      "apple\n",
      "banana\n",
      "cherry\n"
     ]
    }
   ],
   "source": [
    "i = 0\n",
    "while i < len(fruits):\n",
    "    print(fruits[i])\n",
    "    i +=1"
   ]
  },
  {
   "cell_type": "markdown",
   "metadata": {},
   "source": [
    "🔹 6. Tuple Slicing\\\n",
    "Slicing allows extracting parts of a tuple."
   ]
  },
  {
   "cell_type": "code",
   "execution_count": 19,
   "metadata": {},
   "outputs": [
    {
     "name": "stdout",
     "output_type": "stream",
     "text": [
      "(20, 30, 40)\n",
      "(10, 20, 30)\n",
      "(30, 40, 50)\n",
      "(30, 40, 50)\n"
     ]
    }
   ],
   "source": [
    "numbers = (10, 20, 30, 40, 50)\n",
    "\n",
    "print(numbers[1:4])  # Output: (20, 30, 40)\n",
    "print(numbers[:3])   # Output: (10, 20, 30) (first 3 elements)\n",
    "print(numbers[2:])   # Output: (30, 40, 50) (from index 2 onward)\n",
    "print(numbers[-3:])  # Output: (30, 40, 50) (last 3 elements)\n"
   ]
  },
  {
   "cell_type": "markdown",
   "metadata": {},
   "source": [
    "🔹 7. Unpacking Tuples\\\n",
    "Tuple unpacking allows assigning tuple elements to variables."
   ]
  },
  {
   "cell_type": "code",
   "execution_count": 20,
   "metadata": {},
   "outputs": [
    {
     "name": "stdout",
     "output_type": "stream",
     "text": [
      "Khalil\n",
      "30\n",
      "Engineer\n"
     ]
    }
   ],
   "source": [
    "person = (\"Khalil\", 30, \"Engineer\")\n",
    "\n",
    "name, age, job = person\n",
    "\n",
    "print(name)  # Output: Khalil\n",
    "print(age)   # Output: 30\n",
    "print(job)   # Output: Engineer\n"
   ]
  },
  {
   "cell_type": "markdown",
   "metadata": {},
   "source": [
    "🔹 Using * to Unpack Remaining Elements\n",
    "\n"
   ]
  },
  {
   "cell_type": "code",
   "execution_count": 21,
   "metadata": {},
   "outputs": [
    {
     "name": "stdout",
     "output_type": "stream",
     "text": [
      "1\n",
      "[2, 3, 4]\n",
      "5\n"
     ]
    }
   ],
   "source": [
    "numbers = (1, 2, 3, 4, 5)\n",
    "\n",
    "first, *middle, last = numbers\n",
    "\n",
    "print(first)   # Output: 1\n",
    "print(middle)  # Output: [2, 3, 4]\n",
    "print(last)    # Output: 5\n"
   ]
  },
  {
   "cell_type": "markdown",
   "metadata": {},
   "source": [
    "🔹 8. Nested Tuples\\\n",
    "A nested tuple is a tuple that contains other tuples."
   ]
  },
  {
   "cell_type": "code",
   "execution_count": 22,
   "metadata": {},
   "outputs": [
    {
     "name": "stdout",
     "output_type": "stream",
     "text": [
      "(4, 5, 6)\n",
      "6\n"
     ]
    }
   ],
   "source": [
    "matrix = ((1, 2, 3), (4, 5, 6), (7, 8, 9))\n",
    "\n",
    "print(matrix[1])  # Output: (4, 5, 6)\n",
    "print(matrix[1][2])  # Output: 6\n"
   ]
  },
  {
   "cell_type": "markdown",
   "metadata": {},
   "source": [
    "# 📌 Tuple vs List in Python\n",
    "\n",
    "| **Feature**           | **Tuple (`()`)**              | **List (`[]`)**              |\n",
    "|----------------------|---------------------------|---------------------------|\n",
    "| **Mutable?**        | ❌ No (Immutable)          | ✅ Yes (Mutable)          |\n",
    "| **Faster?**         | ✅ Yes                     | ❌ No                     |\n",
    "| **Memory Efficient?** | ✅ Yes                     | ❌ No                     |\n",
    "| **Methods Available?** | Few (`count`, `index`)    | Many (`append`, `remove`, etc.) |\n",
    "| **Usage**           | Fixed data, dictionary keys | Dynamic data               |\n",
    "\n",
    "---"
   ]
  }
 ],
 "metadata": {
  "kernelspec": {
   "display_name": "base",
   "language": "python",
   "name": "python3"
  },
  "language_info": {
   "codemirror_mode": {
    "name": "ipython",
    "version": 3
   },
   "file_extension": ".py",
   "mimetype": "text/x-python",
   "name": "python",
   "nbconvert_exporter": "python",
   "pygments_lexer": "ipython3",
   "version": "3.11.7"
  }
 },
 "nbformat": 4,
 "nbformat_minor": 2
}
