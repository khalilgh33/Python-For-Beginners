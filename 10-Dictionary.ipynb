{
 "cells": [
  {
   "cell_type": "markdown",
   "metadata": {},
   "source": [
    "### 📖 Python Dictionary Tutorial\n",
    "A dictionary in Python is a data structure that stores key-value pairs. It is unordered, mutable, and indexed by unique keys."
   ]
  },
  {
   "cell_type": "markdown",
   "metadata": {},
   "source": [
    "1️⃣ Creating a Dictionary\\\n",
    "You can create a dictionary using curly braces {} or the dict() function."
   ]
  },
  {
   "cell_type": "code",
   "execution_count": 27,
   "metadata": {},
   "outputs": [
    {
     "name": "stdout",
     "output_type": "stream",
     "text": [
      "{'name': 'khalil', 'age': 30, 'city': 'Amol'}\n"
     ]
    }
   ],
   "source": [
    "student = {\n",
    "    \"name\": \"khalil\",\n",
    "    \"age\": 30,\n",
    "    \"city\": \"Amol\"\n",
    "}\n",
    "print(student)"
   ]
  },
  {
   "cell_type": "code",
   "execution_count": 37,
   "metadata": {},
   "outputs": [
    {
     "name": "stdout",
     "output_type": "stream",
     "text": [
      "{'name': 'khalil', 'age': 30, 'city': 'Prague'}\n"
     ]
    }
   ],
   "source": [
    "# using the dict () function\n",
    "student_info = dict(name=\"khalil\", age = 30, city = \"Prague\")\n",
    "print(student_info)"
   ]
  },
  {
   "cell_type": "markdown",
   "metadata": {},
   "source": [
    "2️⃣ Accessing Dictionary Values\\\n",
    "You can access values using keys."
   ]
  },
  {
   "cell_type": "code",
   "execution_count": 5,
   "metadata": {},
   "outputs": [
    {
     "name": "stdout",
     "output_type": "stream",
     "text": [
      "khalil\n",
      "30\n"
     ]
    }
   ],
   "source": [
    "print(student[\"name\"]) # Output: Khalil\n",
    "print(student.get(\"age\")) # Output:30"
   ]
  },
  {
   "cell_type": "markdown",
   "metadata": {},
   "source": [
    "❌ If you access a non-existing key using [], it raises an error:"
   ]
  },
  {
   "cell_type": "code",
   "execution_count": 6,
   "metadata": {},
   "outputs": [
    {
     "ename": "KeyError",
     "evalue": "'country'",
     "output_type": "error",
     "traceback": [
      "\u001b[1;31m---------------------------------------------------------------------------\u001b[0m",
      "\u001b[1;31mKeyError\u001b[0m                                  Traceback (most recent call last)",
      "Cell \u001b[1;32mIn[6], line 1\u001b[0m\n\u001b[1;32m----> 1\u001b[0m \u001b[38;5;28mprint\u001b[39m(student[\u001b[38;5;124m\"\u001b[39m\u001b[38;5;124mcountry\u001b[39m\u001b[38;5;124m\"\u001b[39m])\n",
      "\u001b[1;31mKeyError\u001b[0m: 'country'"
     ]
    }
   ],
   "source": [
    "print(student[\"country\"]) # KeyError"
   ]
  },
  {
   "cell_type": "markdown",
   "metadata": {},
   "source": [
    "✔ To avoid this, use get():"
   ]
  },
  {
   "cell_type": "code",
   "execution_count": 7,
   "metadata": {},
   "outputs": [
    {
     "name": "stdout",
     "output_type": "stream",
     "text": [
      "Not found\n"
     ]
    }
   ],
   "source": [
    "print(student.get(\"country\", \"Not found\")) # Output: not found"
   ]
  },
  {
   "cell_type": "markdown",
   "metadata": {},
   "source": [
    "3️⃣ Modifying a Dictionary\\\n",
    "Add a new key-value pair:"
   ]
  },
  {
   "cell_type": "code",
   "execution_count": 19,
   "metadata": {},
   "outputs": [
    {
     "name": "stdout",
     "output_type": "stream",
     "text": [
      "{'name': 'khalil', 'age': 30, 'city': 'Amol', 'email': 'Khalil.gh3@gmail.com', 'nationality': 'Iran'}\n"
     ]
    }
   ],
   "source": [
    "student = {\n",
    "    \"name\": \"khalil\",\n",
    "    \"age\": 30,\n",
    "    \"city\": \"Amol\"\n",
    "}\n",
    "student[\"email\"] = \"Khalil.gh3@gmail.com\"\n",
    "student[\"nationality\"] = \"Iran\"\n",
    "print(student)\n"
   ]
  },
  {
   "cell_type": "markdown",
   "metadata": {},
   "source": [
    "Update an existing value:\n"
   ]
  },
  {
   "cell_type": "code",
   "execution_count": 20,
   "metadata": {},
   "outputs": [
    {
     "name": "stdout",
     "output_type": "stream",
     "text": [
      "{'name': 'khalil', 'age': 33, 'city': 'Amol', 'email': 'Khalil.gh3@gmail.com', 'nationality': 'Iran'}\n"
     ]
    }
   ],
   "source": [
    "student[\"age\"]= 33\n",
    "print(student)"
   ]
  },
  {
   "cell_type": "markdown",
   "metadata": {},
   "source": [
    "Remove a key-value pair:"
   ]
  },
  {
   "cell_type": "code",
   "execution_count": 21,
   "metadata": {},
   "outputs": [
    {
     "name": "stdout",
     "output_type": "stream",
     "text": [
      "{'name': 'khalil', 'age': 33, 'email': 'Khalil.gh3@gmail.com', 'nationality': 'Iran'}\n"
     ]
    }
   ],
   "source": [
    "del student[\"city\"]\n",
    "print(student)"
   ]
  },
  {
   "cell_type": "code",
   "execution_count": 22,
   "metadata": {},
   "outputs": [
    {
     "name": "stdout",
     "output_type": "stream",
     "text": [
      "{'name': 'khalil', 'age': 33, 'nationality': 'Iran'}\n"
     ]
    }
   ],
   "source": [
    "student.pop(\"email\")\n",
    "print(student)"
   ]
  },
  {
   "cell_type": "markdown",
   "metadata": {},
   "source": [
    "4️⃣ Looping Through a Dictionary\\\n",
    "Loop through keys:"
   ]
  },
  {
   "cell_type": "code",
   "execution_count": 23,
   "metadata": {},
   "outputs": [
    {
     "name": "stdout",
     "output_type": "stream",
     "text": [
      "name\n",
      "age\n",
      "nationality\n"
     ]
    }
   ],
   "source": [
    "for key in student:\n",
    "    print(key)"
   ]
  },
  {
   "cell_type": "markdown",
   "metadata": {},
   "source": [
    "Loop through values:"
   ]
  },
  {
   "cell_type": "code",
   "execution_count": 25,
   "metadata": {},
   "outputs": [
    {
     "name": "stdout",
     "output_type": "stream",
     "text": [
      "khalil\n",
      "33\n",
      "Iran\n"
     ]
    }
   ],
   "source": [
    "for value in student.values():\n",
    "    print(value)"
   ]
  },
  {
   "cell_type": "markdown",
   "metadata": {},
   "source": [
    "Loop through keys and values:"
   ]
  },
  {
   "cell_type": "code",
   "execution_count": 30,
   "metadata": {},
   "outputs": [
    {
     "name": "stdout",
     "output_type": "stream",
     "text": [
      "name: khalil\n",
      "age: 30\n",
      "city: Amol\n"
     ]
    }
   ],
   "source": [
    "for key, value in student.items():\n",
    "    print(f\"{key}: {value}\")"
   ]
  },
  {
   "cell_type": "markdown",
   "metadata": {},
   "source": [
    "5️⃣ Checking for a Key in Dictionary\\\n",
    "Use in to check if a key exists."
   ]
  },
  {
   "cell_type": "code",
   "execution_count": 31,
   "metadata": {},
   "outputs": [
    {
     "name": "stdout",
     "output_type": "stream",
     "text": [
      "key exists\n"
     ]
    }
   ],
   "source": [
    "if \"name\" in student:\n",
    "    print(\"key exists\")"
   ]
  },
  {
   "cell_type": "markdown",
   "metadata": {},
   "source": [
    "## 6️⃣ Dictionary Methods\n",
    "\n",
    "| Method          | Description                      | Example                        |\n",
    "|----------------|--------------------------------|--------------------------------|\n",
    "| `dict.keys()`  | Returns all keys              | `student.keys()`               |\n",
    "| `dict.values()` | Returns all values           | `student.values()`             |\n",
    "| `dict.items()` | Returns key-value pairs       | `student.items()`              |\n",
    "| `dict.update()` | Updates dictionary with another | `student.update({\"age\": 32})`  |\n",
    "| `dict.pop(key)` | Removes and returns the value | `student.pop(\"age\")`           |\n",
    "| `dict.clear()` | Removes all items            | `student.clear()`              |\n"
   ]
  },
  {
   "cell_type": "markdown",
   "metadata": {},
   "source": [
    "7️⃣ Nested Dictionary\\\n",
    "Dictionaries can contain other dictionaries."
   ]
  },
  {
   "cell_type": "code",
   "execution_count": 32,
   "metadata": {},
   "outputs": [
    {
     "name": "stdout",
     "output_type": "stream",
     "text": [
      "khalil\n"
     ]
    }
   ],
   "source": [
    "student = {\n",
    "    \"student1\":{\"name\": \"khalil\", \"age\":30},\n",
    "    \"student2\":{\"name\": \"sara\", \"age\":22}\n",
    "}\n",
    "print(student[\"student1\"][\"name\"]) # Output: Khalil"
   ]
  },
  {
   "cell_type": "markdown",
   "metadata": {},
   "source": [
    "8️⃣ Dictionary Comprehension\\\n",
    "You can create dictionaries using dictionary comprehension."
   ]
  },
  {
   "cell_type": "code",
   "execution_count": 33,
   "metadata": {},
   "outputs": [
    {
     "name": "stdout",
     "output_type": "stream",
     "text": [
      "{1: 1, 2: 4, 3: 9, 4: 16, 5: 25}\n"
     ]
    }
   ],
   "source": [
    "squares = {x: x**2 for x in range(1,6)}\n",
    "print(squares)"
   ]
  },
  {
   "cell_type": "markdown",
   "metadata": {},
   "source": [
    "9️⃣ Default Values Using setdefault()\n"
   ]
  },
  {
   "cell_type": "code",
   "execution_count": 34,
   "metadata": {},
   "outputs": [
    {
     "name": "stdout",
     "output_type": "stream",
     "text": [
      "{'student1': {'name': 'khalil', 'age': 30}, 'student2': {'name': 'sara', 'age': 22}, 'country': 'Unknown'}\n"
     ]
    }
   ],
   "source": [
    "student.setdefault(\"country\", \"Unknown\")\n",
    "print(student)"
   ]
  },
  {
   "cell_type": "markdown",
   "metadata": {},
   "source": [
    "🔟 Practice Questions\\\n",
    "1️⃣ Create a dictionary storing your favorite books and their authors.\\\n",
    "2️⃣ Write a program that counts the occurrence of each word in a sentence using a dictionary.\\\n",
    "3️⃣ Create a dictionary that stores student grades and allows updating grades."
   ]
  }
 ],
 "metadata": {
  "kernelspec": {
   "display_name": "base",
   "language": "python",
   "name": "python3"
  },
  "language_info": {
   "codemirror_mode": {
    "name": "ipython",
    "version": 3
   },
   "file_extension": ".py",
   "mimetype": "text/x-python",
   "name": "python",
   "nbconvert_exporter": "python",
   "pygments_lexer": "ipython3",
   "version": "3.11.7"
  }
 },
 "nbformat": 4,
 "nbformat_minor": 2
}
