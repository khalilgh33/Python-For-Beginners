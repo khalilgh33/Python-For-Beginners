{
 "cells": [
  {
   "cell_type": "markdown",
   "metadata": {},
   "source": [
    "📌 Python Tutorial: Getting Input from Users\\\n",
    "\n",
    "In this tutorial, you will learn:\\\n",
    "\n",
    "1. How to take user input using input()\\\n",
    "2. How to convert user input to different data types\\\n",
    "3. Using f-strings to format user input\\\n",
    "4. Handling multiple inputs in one line\\\n",
    "5. Implementing basic user interaction\\"
   ]
  },
  {
   "cell_type": "markdown",
   "metadata": {},
   "source": [
    "1️⃣ Basic User Input (input())"
   ]
  },
  {
   "cell_type": "code",
   "execution_count": 8,
   "metadata": {},
   "outputs": [
    {
     "name": "stdout",
     "output_type": "stream",
     "text": [
      "Hello, khail!\n"
     ]
    }
   ],
   "source": [
    "name = input(\"Enter your name: \")\n",
    "print(\"Hello, \" + name + \"!\")"
   ]
  },
  {
   "cell_type": "markdown",
   "metadata": {},
   "source": [
    "2️⃣ Converting User Input to Numbers\\\n",
    "By default, input() returns strings. To perform calculations, you must convert input.\n",
    "\n"
   ]
  },
  {
   "cell_type": "code",
   "execution_count": 11,
   "metadata": {},
   "outputs": [
    {
     "name": "stdout",
     "output_type": "stream",
     "text": [
      "Next year , you will be  34\n"
     ]
    }
   ],
   "source": [
    "age = int(input(\"please insert your age: \"))\n",
    "print(\"Next year , you will be \", age +1)"
   ]
  },
  {
   "cell_type": "markdown",
   "metadata": {},
   "source": [
    "3️⃣ Using f-Strings for Better Formatting\\\n",
    "You can format output more efficiently using f-strings (Python 3.6+)."
   ]
  },
  {
   "cell_type": "code",
   "execution_count": 12,
   "metadata": {},
   "outputs": [
    {
     "name": "stdout",
     "output_type": "stream",
     "text": [
      "Hello khalil, you are 30 years old.\n"
     ]
    }
   ],
   "source": [
    "name = input(\"Enter your name: \")\n",
    "age = int(input(\"insert your name: \"))\n",
    "print(f\"Hello {name}, you are {age} years old.\")"
   ]
  },
  {
   "cell_type": "markdown",
   "metadata": {},
   "source": [
    "4️⃣ Getting Multiple Inputs in One Line\\\n",
    "You can take multiple inputs from the user in one line using split().\n",
    "\n"
   ]
  },
  {
   "cell_type": "code",
   "execution_count": 13,
   "metadata": {},
   "outputs": [
    {
     "name": "stdout",
     "output_type": "stream",
     "text": [
      "Hello Khalil Gholamnia\n"
     ]
    }
   ],
   "source": [
    "first_name, last_name = input(\"Enter your first and last name: \").split()\n",
    "print(f\"Hello {first_name} {last_name}\")"
   ]
  },
  {
   "cell_type": "markdown",
   "metadata": {},
   "source": [
    "✅ Taking Multiple Numbers in One Line\\\n",
    " 1. map(function, iterable) applies function to each item in iterable.\\\n",
    " 2. In this case, int is applied to each item in the list from split(), converting them to integers.\\\n",
    " 3. The result is unpacked into x and y.\\\n"
   ]
  },
  {
   "cell_type": "code",
   "execution_count": 15,
   "metadata": {},
   "outputs": [
    {
     "name": "stdout",
     "output_type": "stream",
     "text": [
      "sum: 150\n"
     ]
    }
   ],
   "source": [
    "x , y = map(int, input(\"Enter two numbers seperated by space: \").split())\n",
    "print(f\"sum: {x+y}\")"
   ]
  },
  {
   "cell_type": "markdown",
   "metadata": {},
   "source": [
    "5️⃣ Handling Errors with try-except\\\n",
    "If the user enters non-numeric input where a number is expected,\\\n",
    "it may cause an error. Use exception handling to avoid crashes."
   ]
  },
  {
   "cell_type": "code",
   "execution_count": 18,
   "metadata": {},
   "outputs": [
    {
     "name": "stdout",
     "output_type": "stream",
     "text": [
      "Invalid input! Please enter valid number\n"
     ]
    }
   ],
   "source": [
    "try:\n",
    "    age = int(input(\"Enter your age: \"))\n",
    "    print(f\"next year, you will bw {age + 1}\")\n",
    "except ValueError:\n",
    "    print(\"Invalid input! Please enter valid number\")"
   ]
  },
  {
   "cell_type": "markdown",
   "metadata": {},
   "source": [
    "# 📌 Python User Input Tutorial\n",
    "\n",
    "## 🔹 Summary Table: Common User Input Operations\n",
    "\n",
    "| **Operation**           | **Example**                              | **Description** |\n",
    "|------------------------|--------------------------------|----------------|\n",
    "| **Basic Input (`input()`)** | `name = input(\"Enter your name: \")` | Gets a string input from the user |\n",
    "| **Convert to Integer (`int`)** | `age = int(input(\"Enter age: \"))` | Converts user input to an integer |\n",
    "| **Convert to Float (`float`)** | `height = float(input(\"Enter height: \"))` | Converts input to a float |\n",
    "| **Multiple Inputs (`split()`)** | `x, y = input().split()` | Allows user to enter multiple values in one line |\n",
    "| **Convert Multiple Inputs (`map()`)** | `x, y = map(int, input().split())` | Converts multiple inputs to integers |\n",
    "| **Handling Errors (`try-except`)** | `try: int(input()) except ValueError:` | Prevents errors when user enters invalid input |\n"
   ]
  },
  {
   "cell_type": "code",
   "execution_count": null,
   "metadata": {},
   "outputs": [],
   "source": []
  }
 ],
 "metadata": {
  "kernelspec": {
   "display_name": "base",
   "language": "python",
   "name": "python3"
  },
  "language_info": {
   "codemirror_mode": {
    "name": "ipython",
    "version": 3
   },
   "file_extension": ".py",
   "mimetype": "text/x-python",
   "name": "python",
   "nbconvert_exporter": "python",
   "pygments_lexer": "ipython3",
   "version": "3.11.7"
  }
 },
 "nbformat": 4,
 "nbformat_minor": 2
}
