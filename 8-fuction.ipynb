{
 "cells": [
  {
   "cell_type": "markdown",
   "metadata": {},
   "source": [
    "📌 Python Functions Tutorial for Beginners\\\n",
    "Functions allow you to reuse code and make programs modular and organized. A function takes input, processes \\it, and returns an output.\\\n",
    "\n",
    "✅ What You Will Learn\n",
    "1. What is a Function?\n",
    "2. Defining & Calling a Function\n",
    "3. Function Arguments & Parameters\n",
    "4. Return Statement\n",
    "5. Default Parameters\n",
    "6. Keyword Arguments (kwargs)\n",
    "7. Positional Arguments (args)\n",
    "8. Lambda Functions\n",
    "9. Recursive Functions\n",
    "10. Higher-Order Functions & map(), filter(), reduce()"
   ]
  },
  {
   "cell_type": "markdown",
   "metadata": {},
   "source": [
    "🔹 1. What is a Function?\\\n",
    "A function is a block of reusable code that performs a task.\n",
    "\n",
    "1. Built-in functions: print(), len(), sum(), etc.\n",
    "2. User-defined functions: Functions that you define yourself."
   ]
  },
  {
   "cell_type": "markdown",
   "metadata": {},
   "source": [
    "🔹 2. Defining & Calling a Function\\\n",
    "✅ Function Definition\\\n"
   ]
  },
  {
   "cell_type": "code",
   "execution_count": 7,
   "metadata": {},
   "outputs": [],
   "source": [
    "def greet():\n",
    "    print(\"Hello, welcome to Python\")"
   ]
  },
  {
   "cell_type": "code",
   "execution_count": 9,
   "metadata": {},
   "outputs": [
    {
     "name": "stdout",
     "output_type": "stream",
     "text": [
      "Hello, welcome to Python\n"
     ]
    }
   ],
   "source": [
    "greet() # Output : Hello, welcom to Python"
   ]
  },
  {
   "cell_type": "markdown",
   "metadata": {},
   "source": [
    "🔹 3. Function Arguments & Parameters\\\n",
    "You can pass parameters (inputs) to functions.\n"
   ]
  },
  {
   "cell_type": "code",
   "execution_count": 10,
   "metadata": {},
   "outputs": [
    {
     "name": "stdout",
     "output_type": "stream",
     "text": [
      "Hello, khalil!\n",
      "Hello, sara!\n"
     ]
    }
   ],
   "source": [
    "def greet(name):\n",
    "    print(f\"Hello, {name}!\")\n",
    "greet(\"khalil\") # Output: Hello, Khalil\n",
    "greet(\"sara\") #Output: Hello, Sara   "
   ]
  },
  {
   "cell_type": "markdown",
   "metadata": {},
   "source": [
    "🔹 4. Return Statement\\\n",
    "Functions can return values."
   ]
  },
  {
   "cell_type": "code",
   "execution_count": 11,
   "metadata": {},
   "outputs": [
    {
     "name": "stdout",
     "output_type": "stream",
     "text": [
      "15\n"
     ]
    }
   ],
   "source": [
    "def add(x,y):\n",
    "    return x + y\n",
    "result = add(10, 5)\n",
    "print(result) # Output: 15"
   ]
  },
  {
   "cell_type": "code",
   "execution_count": 24,
   "metadata": {},
   "outputs": [
    {
     "name": "stdout",
     "output_type": "stream",
     "text": [
      "64\n"
     ]
    }
   ],
   "source": [
    "def cube(num):\n",
    "    return num*num*num\n",
    "result = cube(4)\n",
    "print(result)"
   ]
  },
  {
   "cell_type": "markdown",
   "metadata": {},
   "source": [
    "🔹 5. Default Parameters\\\n",
    "You can assign default values to parameters."
   ]
  },
  {
   "cell_type": "code",
   "execution_count": 12,
   "metadata": {},
   "outputs": [
    {
     "name": "stdout",
     "output_type": "stream",
     "text": [
      "Hello, Guest\n",
      "Hello, ALI\n"
     ]
    }
   ],
   "source": [
    "def greet(name = \"Guest\"):\n",
    "    print(f\"Hello, {name}\")\n",
    "\n",
    "greet()  # Output: Hello, Guest!\n",
    "greet(\"ALI\")  # Output, Hello, Ali  "
   ]
  },
  {
   "cell_type": "markdown",
   "metadata": {},
   "source": [
    "🔹 6. Keyword Arguments (kwargs)\\\n",
    "Using kwargs, you can pass arguments as key-value pairs."
   ]
  },
  {
   "cell_type": "code",
   "execution_count": 14,
   "metadata": {},
   "outputs": [
    {
     "name": "stdout",
     "output_type": "stream",
     "text": [
      "Name: khalil, Age: 30\n",
      "Name: Sara, Age: 25\n"
     ]
    }
   ],
   "source": [
    "def person_inf0(name, age):\n",
    "    print(f\"Name: {name}, Age: {age}\")\n",
    "person_inf0(name=\"khalil\", age=30)\n",
    "person_inf0(age=25, name=\"Sara\") #Order doesnt't matter "
   ]
  },
  {
   "cell_type": "markdown",
   "metadata": {},
   "source": [
    "🔹 7. Positional Arguments (*args)\\\n",
    "Using *args, you can pass multiple arguments."
   ]
  },
  {
   "cell_type": "code",
   "execution_count": 15,
   "metadata": {},
   "outputs": [
    {
     "name": "stdout",
     "output_type": "stream",
     "text": [
      "15\n",
      "30\n"
     ]
    }
   ],
   "source": [
    "def add_numbers(*args):\n",
    "    return sum(args)\n",
    "print(add_numbers(1,2,3,4,5)) # output: 15\n",
    "print(add_numbers(10, 20)) # Outputs: 30"
   ]
  },
  {
   "cell_type": "markdown",
   "metadata": {},
   "source": [
    "🔹 8. Lambda Functions (Anonymous Functions)\\\n",
    "A lambda function is a small, one-line function."
   ]
  },
  {
   "cell_type": "code",
   "execution_count": 17,
   "metadata": {},
   "outputs": [
    {
     "name": "stdout",
     "output_type": "stream",
     "text": [
      "25\n",
      "10\n"
     ]
    }
   ],
   "source": [
    "square = lambda x: x **2\n",
    "print(square(5))\n",
    "\n",
    "add = lambda a,b: a +b\n",
    "print(add(3,7)) #Output:10"
   ]
  },
  {
   "cell_type": "markdown",
   "metadata": {},
   "source": [
    "🔹 9. Recursive Functions\\\n",
    "A function that calls itself is called a recursive function."
   ]
  },
  {
   "cell_type": "code",
   "execution_count": 18,
   "metadata": {},
   "outputs": [
    {
     "name": "stdout",
     "output_type": "stream",
     "text": [
      "120\n"
     ]
    }
   ],
   "source": [
    "def factorial (n):\n",
    "    if n ==1:\n",
    "        return 1\n",
    "    return n * factorial (n -1)\n",
    "\n",
    "print(factorial(5)) # Output: 120\n",
    "    "
   ]
  },
  {
   "cell_type": "markdown",
   "metadata": {},
   "source": [
    "🔹 10. Higher-Order Functions\\\n",
    "Functions like map(), filter(), and reduce() can take functions as arguments.\n",
    "\n",
    "✅ Using map()\\\n",
    "Applies a function to every item in a list."
   ]
  },
  {
   "cell_type": "code",
   "execution_count": 19,
   "metadata": {},
   "outputs": [
    {
     "name": "stdout",
     "output_type": "stream",
     "text": [
      "[1, 4, 9, 16, 25]\n"
     ]
    }
   ],
   "source": [
    "numbers = [1,2,3,4,5]\n",
    "squared = list(map(lambda x: x **2, numbers))\n",
    "\n",
    "print(squared) # Output: [1,4,9,16,25]"
   ]
  },
  {
   "cell_type": "markdown",
   "metadata": {},
   "source": [
    "✅ Using filter()\\\n",
    "Filters elements based on a condition."
   ]
  },
  {
   "cell_type": "code",
   "execution_count": 20,
   "metadata": {},
   "outputs": [
    {
     "name": "stdout",
     "output_type": "stream",
     "text": [
      "[10, 20, 30]\n"
     ]
    }
   ],
   "source": [
    "numbers = [10, 15, 20, 25, 30]\n",
    "even_numbers = list(filter(lambda x: x % 2 == 0, numbers))\n",
    "print(even_numbers)  # Output: [10, 20, 30]\n"
   ]
  },
  {
   "cell_type": "markdown",
   "metadata": {},
   "source": [
    "✅ Using reduce()\\\n",
    "Used for cumulative operations (needs functools module)."
   ]
  },
  {
   "cell_type": "code",
   "execution_count": 21,
   "metadata": {},
   "outputs": [
    {
     "name": "stdout",
     "output_type": "stream",
     "text": [
      "120\n"
     ]
    }
   ],
   "source": [
    "from functools import reduce\n",
    "\n",
    "numbers = [1, 2, 3, 4, 5]\n",
    "product = reduce(lambda x, y: x * y, numbers)\n",
    "print(product)  # Output: 120\n"
   ]
  },
  {
   "cell_type": "markdown",
   "metadata": {},
   "source": [
    "# 📌 Summary Table: Function Concepts in Python\n",
    "\n",
    "| **Concept**                  | **Example**                                          | **Output**          |\n",
    "|------------------------------|------------------------------------------------------|---------------------|\n",
    "| **Basic Function**            | `def greet(): print(\"Hello\")`                       | `greet()` → `\"Hello\"` |\n",
    "| **Function with Parameters**  | `def add(x, y): return x + y`                       | `add(2, 3)` → `5`  |\n",
    "| **Default Parameters**        | `def greet(name=\"Guest\")`                           | `greet()` → `\"Hello, Guest\"` |\n",
    "| **Return Statement**          | `def square(x): return x*x`                         | `square(4)` → `16` |\n",
    "| **`*args` (Multiple Arguments)** | `def add(*args): return sum(args)`              | `add(1,2,3)` → `6` |\n",
    "| **`**kwargs` (Keyword Arguments)** | `def info(name, age): ...`                  | `info(name=\"Khalil\", age=30)` |\n",
    "| **Lambda Function**           | `lambda x: x*x`                                     | `(lambda x: x*x)(5)` → `25` |\n",
    "| **Recursion**                 | `def fact(n): return n*fact(n-1) if n>1 else 1`     | `fact(5)` → `120` |\n",
    "| **`map()` Function**          | `map(lambda x: x*x, [1,2,3])`                      | `[1,4,9]` |\n",
    "| **`filter()` Function**       | `filter(lambda x: x>10, [5,15,20])`                | `[15,20]` |\n",
    "\n",
    "---"
   ]
  },
  {
   "cell_type": "code",
   "execution_count": null,
   "metadata": {},
   "outputs": [],
   "source": []
  }
 ],
 "metadata": {
  "kernelspec": {
   "display_name": "Python 3",
   "language": "python",
   "name": "python3"
  },
  "language_info": {
   "codemirror_mode": {
    "name": "ipython",
    "version": 3
   },
   "file_extension": ".py",
   "mimetype": "text/x-python",
   "name": "python",
   "nbconvert_exporter": "python",
   "pygments_lexer": "ipython3",
   "version": "3.12.8"
  }
 },
 "nbformat": 4,
 "nbformat_minor": 2
}
