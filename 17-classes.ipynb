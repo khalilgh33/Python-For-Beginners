{
 "cells": [
  {
   "cell_type": "markdown",
   "metadata": {},
   "source": [
    "#### 📌 Python Class Tutorial for Beginners\n",
    "A class in Python is a blueprint for creating objects. It allows you to define attributes (data) and methods (functions) that work with those attributes.\n",
    "\n",
    "\n",
    "\n",
    "1️⃣ What is a Class?\\\n",
    "A class is a way to create a structured data type with properties (variables) and behaviors (functions).\n",
    "\n",
    "Basic Class Structure\n",
    "#### Basic Class Structure\n",
    "\n"
   ]
  },
  {
   "cell_type": "code",
   "execution_count": 43,
   "metadata": {},
   "outputs": [],
   "source": [
    "class Student:\n",
    "    def __init__(self, name, major, gpa, is_on_probation):\n",
    "        self.name = name\n",
    "        self.major = major\n",
    "        self.gpa = gpa\n",
    "        self.is_on_probation = is_on_probation\n"
   ]
  },
  {
   "cell_type": "markdown",
   "metadata": {},
   "source": [
    "1. class Student: → Defines a new class named Student.\n",
    "2. __init__ → A special method that initializes (sets up) attributes for the class.\n",
    "3. self → Refers to the instance of the class."
   ]
  },
  {
   "cell_type": "markdown",
   "metadata": {},
   "source": [
    "2️⃣ Creating an Object (Instance)\n"
   ]
  },
  {
   "cell_type": "code",
   "execution_count": 46,
   "metadata": {},
   "outputs": [
    {
     "name": "stdout",
     "output_type": "stream",
     "text": [
      "Khalil\n",
      "Computer Science\n"
     ]
    }
   ],
   "source": [
    "Student1 = Student(\"Khalil\", \"Geography\", 3.8, False)\n",
    "Student2 = Student(\"Sareh\", \"Computer Science\", 3.5, True)\n",
    "\n",
    "print(Student1.name)   # Output: Khalil\n",
    "print(Student2.major)  # Output: Computer Science\n"
   ]
  },
  {
   "cell_type": "markdown",
   "metadata": {},
   "source": [
    "3️⃣ Adding Methods to a Class\\\n",
    "Methods are functions inside a class that define its behavior."
   ]
  },
  {
   "cell_type": "code",
   "execution_count": 50,
   "metadata": {},
   "outputs": [
    {
     "name": "stdout",
     "output_type": "stream",
     "text": [
      "True\n"
     ]
    }
   ],
   "source": [
    "class Student:\n",
    "    def __init__ (self, name, major, gpa, is_on_probation):\n",
    "        self.name = name\n",
    "        self.major = major\n",
    "        self.gpa = gpa\n",
    "        self.is_on_probation = is_on_probation\n",
    "    def is_honor_roll(self):\n",
    "        return self.gpa >= 3.5 #Return True if GPA is high\n",
    "\n",
    "Student1 = Student(\"Khalil\", \"Geography\", 3.8, False)\n",
    "print(Student1.is_honor_roll()) # Output: True"
   ]
  },
  {
   "cell_type": "markdown",
   "metadata": {},
   "source": [
    "is_honor_roll() checks if a student's GPA qualifies for the honor roll.\n"
   ]
  },
  {
   "cell_type": "markdown",
   "metadata": {},
   "source": [
    "4️⃣ Class vs Instance Variables\\\n",
    "Instance Variables: Unique to each object.\\\n",
    "Class Variables: Shared among all instances."
   ]
  },
  {
   "cell_type": "code",
   "execution_count": 51,
   "metadata": {},
   "outputs": [
    {
     "name": "stdout",
     "output_type": "stream",
     "text": [
      "axford\n"
     ]
    }
   ],
   "source": [
    "class Student:\n",
    "    School = \"Charles University\" # Class variable\n",
    "\n",
    "    def __init__ (self, name, major):\n",
    "        self.name = name # instance variable\n",
    "        self.major = major # Instance variable\n",
    "student1 = Student(\"Khalil\", \"Geography\")\n",
    "Student2 = Student(\"Sara\", \"Physics\")\n",
    "\n",
    "student1.school = \"axford\" # changing the class variable\n",
    "\n",
    "print(student1.school) # Output: Oxford"
   ]
  },
  {
   "cell_type": "markdown",
   "metadata": {},
   "source": [
    "#### 5️⃣ Inheritance (Reusing Code)\n",
    "One class can inherit attributes and methods from another class."
   ]
  },
  {
   "cell_type": "code",
   "execution_count": 56,
   "metadata": {},
   "outputs": [
    {
     "name": "stdout",
     "output_type": "stream",
     "text": [
      "My name is Khalil and I am 30 years old. I study Geography.\n"
     ]
    }
   ],
   "source": [
    "class Person:\n",
    "    def __init__(self, name, age):\n",
    "        self.name = name\n",
    "        self.age = age\n",
    "\n",
    "    def introduce(self):\n",
    "        return f\"My name is {self.name} and I am {self.age} years old.\"\n",
    "\n",
    "class Student(Person):  # Inheriting from Person\n",
    "    def __init__(self, name, age, major):\n",
    "        super().__init__(name, age)  # Call the parent constructor\n",
    "        self.major = major\n",
    "\n",
    "    def student_info(self):\n",
    "        return f\"{self.introduce()} I study {self.major}.\"\n",
    "\n",
    "student1 = Student(\"Khalil\", 30, \"Geography\")\n",
    "print(student1.student_info())  \n",
    "# Output: My name is Khalil and I am 30 years old. I study Geography.\n"
   ]
  },
  {
   "cell_type": "markdown",
   "metadata": {},
   "source": [
    "6️⃣ Private and Public Variables\\\n",
    "In Python, variables are public by default, but you can make them private using an underscore _."
   ]
  },
  {
   "cell_type": "code",
   "execution_count": 57,
   "metadata": {},
   "outputs": [
    {
     "name": "stdout",
     "output_type": "stream",
     "text": [
      "6000\n"
     ]
    }
   ],
   "source": [
    "class BankAccount:\n",
    "    def __init__(self, owner, balance):\n",
    "        self.owner = owner\n",
    "        self.__balance = balance  # Private variable\n",
    "\n",
    "    def deposit(self, amount):\n",
    "        self.__balance += amount\n",
    "\n",
    "    def get_balance(self):\n",
    "        return self.__balance  # Access private variable\n",
    "\n",
    "account = BankAccount(\"Khalil\", 5000)\n",
    "account.deposit(1000)\n",
    "print(account.get_balance())  # Output: 6000\n"
   ]
  },
  {
   "cell_type": "markdown",
   "metadata": {},
   "source": [
    "__balance is private and can only be accessed through a method.\n"
   ]
  },
  {
   "cell_type": "markdown",
   "metadata": {},
   "source": [
    "7️⃣ Class Methods vs Static Methods\\\n",
    "Instance Method: Works with self and can access instance variables.\\\n",
    "Class Method: Uses @classmethod and affects the whole class.\\\n",
    "Static Method: Uses @staticmethod, does not depend on instance or class.\\\n"
   ]
  },
  {
   "cell_type": "code",
   "execution_count": 58,
   "metadata": {},
   "outputs": [
    {
     "name": "stdout",
     "output_type": "stream",
     "text": [
      "Total students: 2\n",
      "Education for All\n"
     ]
    }
   ],
   "source": [
    "class University:\n",
    "    students_count = 0  # Class variable\n",
    "\n",
    "    def __init__(self, name):\n",
    "        self.name = name\n",
    "        University.students_count += 1  # Updates count for all instances\n",
    "\n",
    "    @classmethod\n",
    "    def get_total_students(cls):\n",
    "        return f\"Total students: {cls.students_count}\"\n",
    "\n",
    "    @staticmethod\n",
    "    def university_motto():\n",
    "        return \"Education for All\"\n",
    "\n",
    "student1 = University(\"Khalil\")\n",
    "student2 = University(\"Sarah\")\n",
    "\n",
    "print(University.get_total_students())  # Output: Total students: 2\n",
    "print(University.university_motto())  # Output: Education for All\n"
   ]
  },
  {
   "cell_type": "markdown",
   "metadata": {},
   "source": [
    "# 🏫 Python Classes Summary\n",
    "\n",
    "## 📌 8️⃣ Key Features of Classes in Python\n",
    "\n",
    "| Feature             | Description |\n",
    "|---------------------|-------------|\n",
    "| **`class`**        | Defines a new class |\n",
    "| **`__init__`**     | Initializes object attributes |\n",
    "| **`self`**         | Represents the instance of the class |\n",
    "| **Instance Variable** | Belongs to an object (unique to each instance) |\n",
    "| **Class Variable**  | Shared by all objects of the class |\n",
    "| **Method**         | A function inside a class that works with instance data |\n",
    "| **Inheritance**    | Allows a class to use another class’s attributes and methods |\n",
    "| **Private Variable (`__var`)** | Defined using `__` to restrict access outside the class |\n",
    "| **`@classmethod`** | Works with class variables and affects all instances |\n",
    "| **`@staticmethod`** | Independent function inside a class (doesn't depend on `self` or `cls`) |\n",
    "\n",
    "---\n"
   ]
  },
  {
   "cell_type": "code",
   "execution_count": null,
   "metadata": {},
   "outputs": [],
   "source": []
  }
 ],
 "metadata": {
  "kernelspec": {
   "display_name": "base",
   "language": "python",
   "name": "python3"
  },
  "language_info": {
   "codemirror_mode": {
    "name": "ipython",
    "version": 3
   },
   "file_extension": ".py",
   "mimetype": "text/x-python",
   "name": "python",
   "nbconvert_exporter": "python",
   "pygments_lexer": "ipython3",
   "version": "3.11.7"
  }
 },
 "nbformat": 4,
 "nbformat_minor": 2
}
