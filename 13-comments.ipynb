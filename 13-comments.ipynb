{
 "cells": [
  {
   "cell_type": "markdown",
   "metadata": {},
   "source": [
    "##### Python Tutorial: Different Types of Comments in Python\n",
    "##### Introduction\n",
    "Comments in Python are useful for explaining code, making it more readable, and preventing code execution for debugging purposes. Python supports three main types of comments:\n",
    "1. Single-line comments (#)\n",
    "2. Multi-line comments (using triple quotes \"\"\" \"\"\" or ''' ''')\n",
    "3. Inline comments (placed after a statement)\n"
   ]
  },
  {
   "cell_type": "markdown",
   "metadata": {},
   "source": [
    "#### 1. Single-Line Comments\n",
    "A single-line comment starts with the # symbol. Everything after # on that line is ignored by the Python interpreter."
   ]
  },
  {
   "cell_type": "code",
   "execution_count": 4,
   "metadata": {},
   "outputs": [
    {
     "name": "stdout",
     "output_type": "stream",
     "text": [
      "Hello world\n"
     ]
    }
   ],
   "source": [
    "# This is a single-line comment\n",
    "print(\"Hello world\")"
   ]
  },
  {
   "cell_type": "markdown",
   "metadata": {},
   "source": [
    "#### 2. Multi-Line Comments\n",
    "Python does not have a specific syntax for multi-line comments, but we can use triple quotes (\"\"\" \"\"\" or ''' ''') to simulate multi-line comments."
   ]
  },
  {
   "cell_type": "code",
   "execution_count": 5,
   "metadata": {},
   "outputs": [
    {
     "name": "stdout",
     "output_type": "stream",
     "text": [
      "Multi-line comments example.\n"
     ]
    }
   ],
   "source": [
    "\"\"\"\n",
    "This is a multi-line comment.\n",
    "It spans multiple lines and is commonly used for documentation.\n",
    "\"\"\"\n",
    "print(\"Multi-line comments example.\")\n"
   ]
  },
  {
   "cell_type": "markdown",
   "metadata": {},
   "source": [
    "#### 3. Inline Comments\n",
    "Inline comments are placed at the end of a line of code and describe what the code does."
   ]
  },
  {
   "cell_type": "code",
   "execution_count": 6,
   "metadata": {},
   "outputs": [
    {
     "name": "stdout",
     "output_type": "stream",
     "text": [
      "20\n"
     ]
    }
   ],
   "source": [
    "x = 10 # Assign 10 to variable x\n",
    "y = x * 2 # Multiply x by 2 and store in y\n",
    "print(y) # print the value of y"
   ]
  },
  {
   "cell_type": "markdown",
   "metadata": {},
   "source": [
    "#### 4. Docstrings (Documentation Strings)\n",
    "Python provides docstrings, which are special multi-line comments used to describe functions, classes, or modules. These are written using triple quotes and are accessible via the __doc__ attribute.\n"
   ]
  },
  {
   "cell_type": "code",
   "execution_count": 7,
   "metadata": {},
   "outputs": [
    {
     "name": "stdout",
     "output_type": "stream",
     "text": [
      "\n",
      "    This function prints a greeting message.\n",
      "    \n",
      "Hello , Khalil\n"
     ]
    }
   ],
   "source": [
    "def greet(name):\n",
    "    \"\"\"This function prints a greeting message.\"\"\"\n",
    "    print(f\"Hello , {name}\")\n",
    "\n",
    "print(greet.__doc__) # Displays the docstring\n",
    "greet(\"Khalil\")    "
   ]
  },
  {
   "cell_type": "code",
   "execution_count": null,
   "metadata": {},
   "outputs": [],
   "source": []
  }
 ],
 "metadata": {
  "kernelspec": {
   "display_name": "base",
   "language": "python",
   "name": "python3"
  },
  "language_info": {
   "codemirror_mode": {
    "name": "ipython",
    "version": 3
   },
   "file_extension": ".py",
   "mimetype": "text/x-python",
   "name": "python",
   "nbconvert_exporter": "python",
   "pygments_lexer": "ipython3",
   "version": "3.11.7"
  }
 },
 "nbformat": 4,
 "nbformat_minor": 2
}
