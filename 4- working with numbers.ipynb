{
 "cells": [
  {
   "cell_type": "markdown",
   "metadata": {},
   "source": [
    "Below is a complete Python tutorial on working with numbers, covering basic arithmetic, number types, conversions, mathematical functions, and formatting.\n",
    "\n",
    "### 📌 Python Numbers Tutorial\n",
    "### This tutorial will cover:\n",
    "\n",
    "1. Types of Numbers in Python\n",
    "2. Basic Arithmetic Operations\n",
    "3. Order of Operations (PEMDAS)\n",
    "4. Number Functions (abs(), pow(), round(), etc.)\n",
    "5. Math Module (math)\n",
    "6. Number Conversions (int, float, str)"
   ]
  },
  {
   "cell_type": "markdown",
   "metadata": {},
   "source": [
    "1️⃣ Types of Numbers in Python"
   ]
  },
  {
   "cell_type": "code",
   "execution_count": 4,
   "metadata": {},
   "outputs": [
    {
     "name": "stdout",
     "output_type": "stream",
     "text": [
      "<class 'int'>\n",
      "<class 'float'>\n",
      "<class 'complex'>\n"
     ]
    }
   ],
   "source": [
    "# Integer (whole number)\n",
    "x = 10\n",
    "print(type(x)) # Output: <class 'int'>\n",
    "\n",
    "# float (Decimal number)\n",
    "y = 3.14\n",
    "print(type(y)) # Output: <class 'float'>\n",
    "\n",
    "# Complex number (a + bj format)\n",
    "z = 2 + 3j\n",
    "print(type(z)) # Output: <class 'complex'>\n"
   ]
  },
  {
   "cell_type": "markdown",
   "metadata": {},
   "source": [
    "2️⃣ Basic Arithmetic Operations"
   ]
  },
  {
   "cell_type": "code",
   "execution_count": 36,
   "metadata": {},
   "outputs": [
    {
     "name": "stdout",
     "output_type": "stream",
     "text": [
      "13\n",
      "7\n",
      "30\n",
      "3.3333333333333335\n",
      "3\n",
      "1\n",
      "1000\n",
      "3.8\n",
      "1000\n",
      "10\n",
      "4\n"
     ]
    }
   ],
   "source": [
    "a = 10\n",
    "b = 3\n",
    "\n",
    "print(a + b) # addition (10 + 3 = 1)\n",
    "print(a - b) # substraction ( 10 - 3 = 7)\n",
    "print(a * b) # Multiplication ( 10 * 3 = 30)\n",
    "print(a / b) # division ( 10 / 3 = 3.3333)\n",
    "print(a // b)  # floor division ( 10 //3 = 3)\n",
    "print(a % b) # Module (reminder) ( 10 % 3 = 1)\n",
    "print(a ** b) # Exponention (10^3 = 1000)\n",
    "print(abs(-3.8)) # print abslut it shows 3.8\n",
    "print(pow(a,b))  #Exponention (10^3 = 1000)\n",
    "print(max(a,b)) # max number 10\n",
    "print(round(3.7)) # round up to 4"
   ]
  },
  {
   "cell_type": "markdown",
   "metadata": {},
   "source": [
    "3️⃣ Order of Operations (PEMDAS) \\\n",
    "Python follows the PEMDAS rule for calculations:\n",
    "\n",
    "1. Parentheses\n",
    "2. Exponents\n",
    "3. Multiplication\n",
    "4. Division\n",
    "5. Addition\n",
    "6.Subtraction\n",
    "\n"
   ]
  },
  {
   "cell_type": "code",
   "execution_count": 13,
   "metadata": {},
   "outputs": [
    {
     "name": "stdout",
     "output_type": "stream",
     "text": [
      "7.0\n"
     ]
    }
   ],
   "source": [
    "result  = (5 +3) * 2 ** 2 /4 - 1\n",
    "print(result) # Output : 7.0"
   ]
  },
  {
   "cell_type": "markdown",
   "metadata": {},
   "source": [
    "5️⃣ Math Module (math) \\\n",
    "Python has a built-in math module for advanced calculations."
   ]
  },
  {
   "cell_type": "code",
   "execution_count": 37,
   "metadata": {},
   "outputs": [
    {
     "name": "stdout",
     "output_type": "stream",
     "text": [
      "4.0\n",
      "4\n",
      "3\n",
      "2.302585092994046\n",
      "0.49999999999999994\n",
      "3.141592653589793\n",
      "2.718281828459045\n"
     ]
    }
   ],
   "source": [
    "import math # ( note from math import *  # Import all functions from math)\n",
    "print(math.sqrt(16)) # square root = 4.0\n",
    "print(math.ceil(3.4)) # round up 4\n",
    "print(math.floor(3.9)) # round down to 3\n",
    "print(math.log(10)) # natural log of 10\n",
    "print(math.sin(math.radians(30))) # sin of 30 degree\n",
    "print(math.pi)  # value of pi\n",
    "print(math.e) # value of e\n"
   ]
  },
  {
   "cell_type": "markdown",
   "metadata": {},
   "source": [
    "6️⃣ Number Conversions"
   ]
  },
  {
   "cell_type": "code",
   "execution_count": 25,
   "metadata": {},
   "outputs": [
    {
     "name": "stdout",
     "output_type": "stream",
     "text": [
      "105\n",
      "103.5\n",
      "I am 30 years old.\n"
     ]
    }
   ],
   "source": [
    "# Conver string to number \n",
    "num_str = \"100\"\n",
    "num_int = int(num_str) # convert to integer\n",
    "num_float = float(num_str) # convert to float\n",
    "\n",
    "print(num_int + 5) # Output : 105\n",
    "print(num_float + 3.5) # Output: 102.5\n",
    "\n",
    "# convert number to string\n",
    "age = 30\n",
    "age_str = str(age)\n",
    "print(\"I am \" + age_str + \" years old.\") # Output: I am 30 years old"
   ]
  },
  {
   "cell_type": "markdown",
   "metadata": {},
   "source": [
    "# 📌 Python Numbers Tutorial\n",
    "\n",
    "## 🔹 Summary Table: Common Number Operations\n",
    "\n",
    "| **Operation**      | **Symbol/Function** | **Example**         | **Output**  |\n",
    "|-------------------|------------------|-----------------|-----------|\n",
    "| **Addition**      | `+`               | `10 + 5`        | `15`      |\n",
    "| **Subtraction**   | `-`               | `10 - 5`        | `5`       |\n",
    "| **Multiplication**| `*`               | `10 * 5`        | `50`      |\n",
    "| **Division**      | `/`               | `10 / 3`        | `3.333...` |\n",
    "| **Floor Division**| `//`              | `10 // 3`       | `3`       |\n",
    "| **Modulus**       | `%`               | `10 % 3`        | `1`       |\n",
    "| **Exponentiation**| `**`              | `2 ** 3`        | `8`       |\n",
    "| **Absolute Value**| `abs()`           | `abs(-5)`       | `5`       |\n",
    "| **Power**        | `pow(x, y)`        | `pow(2, 3)`     | `8`       |\n",
    "| **Rounding**      | `round()`         | `round(3.14159, 2)` | `3.14` |\n",
    "| **Square Root**   | `math.sqrt()`     | `math.sqrt(16)` | `4.0`     |\n",
    "| **Logarithm**     | `math.log(x)`     | `math.log(10)`  | `2.302`   |\n",
    "\n",
    "---\n",
    "\n",
    "\n"
   ]
  },
  {
   "cell_type": "code",
   "execution_count": null,
   "metadata": {},
   "outputs": [],
   "source": []
  }
 ],
 "metadata": {
  "kernelspec": {
   "display_name": "base",
   "language": "python",
   "name": "python3"
  },
  "language_info": {
   "codemirror_mode": {
    "name": "ipython",
    "version": 3
   },
   "file_extension": ".py",
   "mimetype": "text/x-python",
   "name": "python",
   "nbconvert_exporter": "python",
   "pygments_lexer": "ipython3",
   "version": "3.11.7"
  }
 },
 "nbformat": 4,
 "nbformat_minor": 2
}
